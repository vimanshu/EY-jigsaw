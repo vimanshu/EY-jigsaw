{
  "nbformat": 4,
  "nbformat_minor": 0,
  "metadata": {
    "colab": {
      "name": "Jigsaw-assignment-1.ipynb",
      "provenance": [],
      "collapsed_sections": [],
      "authorship_tag": "ABX9TyODGQg4U8JeBVji9AGBq8a/",
      "include_colab_link": true
    },
    "kernelspec": {
      "name": "python3",
      "display_name": "Python 3"
    },
    "language_info": {
      "name": "python"
    }
  },
  "cells": [
    {
      "cell_type": "markdown",
      "metadata": {
        "id": "view-in-github",
        "colab_type": "text"
      },
      "source": [
        "<a href=\"https://colab.research.google.com/github/vimanshu/EY-jigsaw/blob/main/Jigsaw_assignment_1.ipynb\" target=\"_parent\"><img src=\"https://colab.research.google.com/assets/colab-badge.svg\" alt=\"Open In Colab\"/></a>"
      ]
    },
    {
      "cell_type": "code",
      "execution_count": null,
      "metadata": {
        "colab": {
          "base_uri": "https://localhost:8080/"
        },
        "id": "GNgm5qeCJ5Hx",
        "outputId": "3956f0f0-03cd-4373-e991-44d0c6e19935"
      },
      "outputs": [
        {
          "output_type": "stream",
          "name": "stdout",
          "text": [
            "Enter test 1 marks : 20\n",
            "Enter test 2 marks : 30\n",
            "Enter test 3 marks : 0\n",
            "Average of best 2 =  25.0\n"
          ]
        }
      ],
      "source": [
        "# Design a Python program to find the average of best two marks out of three marks taken as  input. \n",
        "\n",
        "marks1=int(input(\"Enter test 1 marks : \"))\n",
        "marks2=int(input(\"Enter test 2 marks : \"))\n",
        "marks3=int(input(\"Enter test 3 marks : \"))\n",
        "\n",
        "minimum=min(marks1,marks2,marks3)\n",
        "sumofbest2=marks1+marks2+marks3-minimum\n",
        "avgofbest2=sumofbest2/2\n",
        "print(\"Average of best 2 = \", avgofbest2)"
      ]
    },
    {
      "cell_type": "code",
      "source": [
        "# Write a program to identify palindrome words in a line of text. \n",
        "\n",
        "def checkPalin(word):\n",
        "    if word.lower() == word.lower()[::-1]:\n",
        "        return True\n",
        "\n",
        "txt = 'mam pam sam dude'\n",
        "txt_ls=txt.split()\n",
        "\n",
        "for word in txt_ls:\n",
        "  if(checkPalin(word)):\n",
        "    print('palindrome: ',word)\n"
      ],
      "metadata": {
        "colab": {
          "base_uri": "https://localhost:8080/"
        },
        "id": "PmcJGj4BKXX1",
        "outputId": "e01a2ecb-f653-41a1-dfd9-d915726a82ee"
      },
      "execution_count": null,
      "outputs": [
        {
          "output_type": "stream",
          "name": "stdout",
          "text": [
            "palindrome:  mam\n"
          ]
        }
      ]
    },
    {
      "cell_type": "code",
      "source": [
        "# Write a Python program to get a string made of the first 2 and the last 2 chars \n",
        "# from a given a  string. If the string length is less than 2, return empty string. \n",
        "\n",
        "\n",
        "txt ='abcdefgh'\n",
        "res=''\n",
        "if len(txt)<2:\n",
        "  print('')\n",
        "else:\n",
        "  res=txt[0:2]+txt[len(txt)-2:len(txt)]\n",
        "print(res)"
      ],
      "metadata": {
        "colab": {
          "base_uri": "https://localhost:8080/"
        },
        "id": "KYgi2qNpK-89",
        "outputId": "aa6dffe4-35af-451f-8596-f6733b57712c"
      },
      "execution_count": null,
      "outputs": [
        {
          "output_type": "stream",
          "name": "stdout",
          "text": [
            "abgh\n"
          ]
        }
      ]
    },
    {
      "cell_type": "code",
      "source": [
        "# Consider a string s= “Hello how are you?”. Write a program to return this string without spaces.\n",
        "\n",
        "s = 'Hello how are you?'\n",
        "s=s.replace(' ','')\n",
        "print(s)\n"
      ],
      "metadata": {
        "colab": {
          "base_uri": "https://localhost:8080/"
        },
        "id": "Drlm1RARLw7f",
        "outputId": "69178005-33d0-483f-8ebd-35cab1a185f7"
      },
      "execution_count": null,
      "outputs": [
        {
          "output_type": "stream",
          "name": "stdout",
          "text": [
            "Hellohowareyou?\n"
          ]
        }
      ]
    },
    {
      "cell_type": "code",
      "source": [
        "# Write a Python program to remove the characters which have odd index values of a given  string\n",
        "\n",
        "s = 'Hello how are you?'\n",
        "res=''\n",
        "for i in range(len(s)):\n",
        "  if i%2!=0:\n",
        "    res+=s[i]\n",
        "\n",
        "print(res)\n",
        "\n"
      ],
      "metadata": {
        "colab": {
          "base_uri": "https://localhost:8080/"
        },
        "id": "MN_hE-27MR9c",
        "outputId": "0f0ddee5-baeb-4e01-b699-3aa9430771b2"
      },
      "execution_count": null,
      "outputs": [
        {
          "output_type": "stream",
          "name": "stdout",
          "text": [
            "el o r o?\n"
          ]
        }
      ]
    },
    {
      "cell_type": "code",
      "source": [
        "# Write a Python program to change a given string to a new string where the \n",
        "# first and last chars  have been exchanged. \n",
        "\n",
        "s = 'abcdee'\n",
        "s_new=''\n",
        "s_new+=s[-1]\n",
        "s_new+=s[1:len(s)-1]\n",
        "s_new+=s[0]\n",
        "print(s_new)"
      ],
      "metadata": {
        "colab": {
          "base_uri": "https://localhost:8080/"
        },
        "id": "fO8zjASaM5uv",
        "outputId": "f0970d67-3f33-4189-f417-2b1116ea70ac"
      },
      "execution_count": null,
      "outputs": [
        {
          "output_type": "stream",
          "name": "stdout",
          "text": [
            "ebcdea\n"
          ]
        }
      ]
    },
    {
      "cell_type": "code",
      "source": [
        "# A list rotation consists of taking the last element and moving it to the front. \n",
        "# For instance, if we  rotate the list [1,2,3,4,5], we get [5,1,2,3,4]. If we rotate \n",
        "# it again, we get [4,5,1,2,3]. Write a Python function rotatelist(ls,k) that takes a \n",
        "# list ls and a positive integer k and returns  the list ls after k rotations. \n",
        "# If k is not positive, your function should return ls unchanged. \n",
        "# Note  that your function should not change ls itself, and should return the rotated list.\n",
        "\n",
        "\n",
        "\n",
        "def rotatelist(ls,k):\n",
        "  if k<=0:\n",
        "    return ls\n",
        "  for i in range(k):\n",
        "    ls = ls[k:]+ls[:k]\n",
        "    return ls\n",
        "\n",
        "rotatelist([1,2,3,4],2) \n",
        "  "
      ],
      "metadata": {
        "colab": {
          "base_uri": "https://localhost:8080/"
        },
        "id": "p38ajveeNeTi",
        "outputId": "ab577a8d-cc3b-4d18-910d-b98bc7bc8dde"
      },
      "execution_count": null,
      "outputs": [
        {
          "output_type": "execute_result",
          "data": {
            "text/plain": [
              "[3, 4, 1, 2]"
            ]
          },
          "metadata": {},
          "execution_count": 17
        }
      ]
    },
    {
      "cell_type": "code",
      "source": [
        "#  Define a Python function ascending(ls) that returns True if each \n",
        "# element in its input list is at  least as big as the one before it. \n",
        "# For empty list, it should be True. Here are some examples to  show \n",
        "# how your function should work. \n",
        "#  ascending([]) #returns True  \n",
        "#  ascending([3,3,4]) #returns True  \n",
        "\n",
        "def ascen(ls):\n",
        "  for i in range(len(ls)-1):\n",
        "    if ls[i+1]<ls[i]:\n",
        "      return False\n",
        "    return True\n",
        "\n",
        "ascen([3,3,4])\n",
        "\n",
        "    \n"
      ],
      "metadata": {
        "colab": {
          "base_uri": "https://localhost:8080/"
        },
        "id": "PCdubabMPAKY",
        "outputId": "c90c7fbf-035d-46d1-ba95-89c495db9fbe"
      },
      "execution_count": null,
      "outputs": [
        {
          "output_type": "execute_result",
          "data": {
            "text/plain": [
              "True"
            ]
          },
          "metadata": {},
          "execution_count": 18
        }
      ]
    },
    {
      "cell_type": "code",
      "source": [
        "# A string with parentheses is well bracketed if all parentheses are matched: \n",
        "# every opening  bracket has a matching closing bracket and vice versa. Write a \n",
        "# Python function  wellbracketed(s) that takes a string s containing parentheses \n",
        "# and returns True if s is well  bracketed and False otherwise.  \n",
        "#  Here are some examples to show how your function should work. \n",
        "# wellbracketed(\"22)\") # returns False \n",
        "# wellbracketed(\"(a+b)(a-b)\") # returns True \n",
        "# wellbracketed(\"(a(b+c)-d)((e+f)\") # returns False \n",
        "\n",
        "bracket=[]\n",
        "def wellbracketed(s):\n",
        "  for i in s:\n",
        "    if i=='(':\n",
        "      bracket.append(i)\n",
        "    if i == ')':\n",
        "      if len(bracket)>0:\n",
        "        bracket.pop()\n",
        "      else:\n",
        "        return False\n",
        "\n",
        "  if len(bracket)==0:\n",
        "    return True\n",
        "  else:\n",
        "    return False\n",
        "\n",
        "print(wellbracketed(\"22)\"))\n",
        "print(wellbracketed(\"(a+b)(a-b)\"))\n",
        "print(wellbracketed(\"(a(b+c)-d)((e+f)\"))\n",
        "\n"
      ],
      "metadata": {
        "colab": {
          "base_uri": "https://localhost:8080/"
        },
        "id": "q7ACRwBjQca1",
        "outputId": "7e7ee442-068a-42b4-d801-b90746ca19d2"
      },
      "execution_count": null,
      "outputs": [
        {
          "output_type": "stream",
          "name": "stdout",
          "text": [
            "False\n",
            "True\n",
            "False\n"
          ]
        }
      ]
    },
    {
      "cell_type": "code",
      "source": [
        "# A positive integer m is a sum of squares if it can be written as k + x \n",
        "# where k > 0, x > 0 and  both k and x are perfect squares. Write a Python \n",
        "# function sumofsquares(m) that takes an  integer m returns True if m is a sum \n",
        "# of squares and False otherwise. Here are some examples  to show how your \n",
        "# function should work. \n",
        "# sumofsquares(41) #returns True \n",
        "# sumofsquares(30) #returns False \n",
        "# sumofsquares(17) #returns True \n",
        "\n",
        "def sumofsquares(n):\n",
        "    if n<0:\n",
        "        return False\n",
        "    for i in range(1, int(n**0.5)  + 1 ):\n",
        "        for j in range(1, int(n**0.5) + 1 ):\n",
        "            m = i**2 + j**2\n",
        "            if m == n:\n",
        "                return True\n",
        "            elif m > n:\n",
        "                break\n",
        "    return False\n",
        "\n",
        "print(sumofsquares(41))\n",
        "print(sumofsquares(30))\n",
        "print(sumofsquares(17))"
      ],
      "metadata": {
        "colab": {
          "base_uri": "https://localhost:8080/"
        },
        "id": "RBThwXivRQW8",
        "outputId": "b855eb39-c843-4544-a0f0-010c6ed7e0ed"
      },
      "execution_count": null,
      "outputs": [
        {
          "output_type": "stream",
          "name": "stdout",
          "text": [
            "True\n",
            "False\n",
            "True\n"
          ]
        }
      ]
    },
    {
      "cell_type": "code",
      "source": [
        "# Write a python program to create a list and print all the items in \n",
        "# reverse index order. \n",
        "\n",
        "def Reverse(lst):\n",
        "    return [ele for ele in reversed(lst)]\n",
        "      \n",
        "\n",
        "lst = [10, 11, 12, 13, 14, 15]\n",
        "print(Reverse(lst))"
      ],
      "metadata": {
        "colab": {
          "base_uri": "https://localhost:8080/"
        },
        "id": "NjbNtRxDTFcH",
        "outputId": "5704c54c-ee58-4359-e47e-03328e431522"
      },
      "execution_count": null,
      "outputs": [
        {
          "output_type": "stream",
          "name": "stdout",
          "text": [
            "[15, 14, 13, 12, 11, 10]\n"
          ]
        }
      ]
    },
    {
      "cell_type": "code",
      "source": [
        "# Write a Python function that takes two lists and returns True if they \n",
        "# have at least one common  member. \n",
        "\n",
        "l1=[1,2,3]\n",
        "l2=[1,-2,0]\n",
        "def com_mem(l1,l2):\n",
        "  for i in l1:\n",
        "    if i in l2:\n",
        "      return True\n",
        "  return False\n",
        "  \n",
        "\n",
        "com_mem(l1,l2)"
      ],
      "metadata": {
        "colab": {
          "base_uri": "https://localhost:8080/"
        },
        "id": "5Nt0iZ77TU7c",
        "outputId": "7e8fed71-907e-446a-e38d-f48cdd67bc18"
      },
      "execution_count": null,
      "outputs": [
        {
          "output_type": "execute_result",
          "data": {
            "text/plain": [
              "True"
            ]
          },
          "metadata": {},
          "execution_count": 28
        }
      ]
    },
    {
      "cell_type": "code",
      "source": [
        "# Write a python function to check whether the list is Ascending order or not. \n",
        "\n",
        "def check_asc(l1):\n",
        "  if l1==sorted(l1):\n",
        "    return True\n",
        "  return False\n",
        "\n",
        "check_asc([1,2,3,4])"
      ],
      "metadata": {
        "colab": {
          "base_uri": "https://localhost:8080/"
        },
        "id": "3K9w7F7CT70o",
        "outputId": "a4be6d27-a9ac-4e6d-ceea-11a16ef67674"
      },
      "execution_count": 26,
      "outputs": [
        {
          "output_type": "execute_result",
          "data": {
            "text/plain": [
              "True"
            ]
          },
          "metadata": {},
          "execution_count": 26
        }
      ]
    },
    {
      "cell_type": "code",
      "source": [
        "# Write a Python function that takes two sorted lists and return merged List.\n",
        "\n",
        "def merge_two_sorted_list(l1,l2):\n",
        "  # sort them\n",
        "  l1.sort()\n",
        "  l2.sort()\n",
        "  l3 = l1+l2\n",
        "  return sorted(l3)\n",
        "\n",
        "print(merge_two_sorted_list([1,2,4],[3,5,6])) "
      ],
      "metadata": {
        "id": "MiVEVFJFUpqF",
        "colab": {
          "base_uri": "https://localhost:8080/"
        },
        "outputId": "b8cdf4c7-86f5-4492-b8b3-6e53705d40e9"
      },
      "execution_count": 25,
      "outputs": [
        {
          "output_type": "stream",
          "name": "stdout",
          "text": [
            "[1, 2, 3, 4, 5, 6]\n"
          ]
        }
      ]
    },
    {
      "cell_type": "code",
      "source": [
        "#  Write a Python program to remove duplicates from a list \n",
        "\n",
        "def remove_duplicates(l1):\n",
        "  unique=[]\n",
        "  for i in l1:\n",
        "    if i not in unique:\n",
        "      unique.append(i)\n",
        "  return unique\n",
        "\n",
        "print(remove_duplicates([1,1,2,2,3,4]))\n"
      ],
      "metadata": {
        "id": "IWNqbwJ7U88S",
        "colab": {
          "base_uri": "https://localhost:8080/"
        },
        "outputId": "763b2f7c-9236-47f1-d68e-dda344c134ba"
      },
      "execution_count": 27,
      "outputs": [
        {
          "output_type": "stream",
          "name": "stdout",
          "text": [
            "[1, 2, 3, 4]\n"
          ]
        }
      ]
    },
    {
      "cell_type": "code",
      "source": [
        "# Write a Python program to check a list is empty or not. \n",
        "\n",
        "\n",
        "def check_if_list_empty(l1):\n",
        "  if len(l1)==0:\n",
        "    return True\n",
        "  return False\n",
        "\n",
        "print(check_if_list_empty([]))\n",
        "print(check_if_list_empty([1]))\n"
      ],
      "metadata": {
        "colab": {
          "base_uri": "https://localhost:8080/"
        },
        "id": "8XdY0tDtxE0e",
        "outputId": "24360f0b-0222-4ef4-ed22-b4989900ad17"
      },
      "execution_count": 28,
      "outputs": [
        {
          "output_type": "stream",
          "name": "stdout",
          "text": [
            "True\n",
            "False\n"
          ]
        }
      ]
    },
    {
      "cell_type": "code",
      "source": [
        "# Consider a string in the following format and extract only the domain name. \n",
        "#  \"From xyz@abc.com Wed Feb 21 09:14:16 2018\" \n",
        "\n",
        "mail = \"From xyz@abc.com Wed Feb 21 09:14:16 2018\" \n",
        "l_index=0\n",
        "l_index=mail.find('@')\n",
        "r_index=mail.find('.com')\n",
        "domain_name=mail[l_index+1:r_index+4]\n",
        "print(domain_name)    \n",
        "    "
      ],
      "metadata": {
        "colab": {
          "base_uri": "https://localhost:8080/"
        },
        "id": "XmEFhoFgxgf2",
        "outputId": "91012913-729b-4ff8-d399-a682261e8296"
      },
      "execution_count": 32,
      "outputs": [
        {
          "output_type": "stream",
          "name": "stdout",
          "text": [
            "abc.com\n"
          ]
        }
      ]
    },
    {
      "cell_type": "code",
      "source": [
        "# Define a Python function alternating(ls) that returns True if the values in \n",
        "# the input list  alternately go up and down (in a strict manner). \n",
        "# For empty list, it should be True.  \n",
        "# Following are few instances: \n",
        "#  alternating([]) # returns True  \n",
        "#  alternating([1,3,2,3,1,5]) #True  \n",
        "#  alternating([3,2,3,1,5]) #True  [how is this true???]\n",
        "#  alternating([3,2,2,1,5]) #False  \n",
        "#  alternating([3,2,1,3,5]) #False\n",
        "\n",
        "\n",
        "\n",
        "       \n",
        "\n"
      ],
      "metadata": {
        "id": "NXoCRgWSy85H"
      },
      "execution_count": null,
      "outputs": []
    },
    {
      "cell_type": "code",
      "source": [
        "# A two dimensional matrix can be represented in Python row-wise, as a list \n",
        "# of lists: each inner  list represents one row of the matrix. For instance, \n",
        "# the matrix \n",
        "# 1 2 3  \n",
        "# 4 5 6  \n",
        "# would be represented as [[1,2,3],[4,5,6]]. Write a Python function \n",
        "# matmult(m1,m2) that  takes as input two matrices using this row-wise \n",
        "# representation and returns the matrix product  m1*m2 using the same \n",
        "# epresentation. You may assume that the input matrices are well formed and \n",
        "# have compatible dimensions. \n",
        "# For instance: \n",
        "#  matmult([[1,2],[3,4]],[[1,0],[0,1]]) #result is [[1,2],[3,4]]   \n",
        "# matmult([[1,2,3],[4,5,6]],[[1,4],[2,5],[3,6]]) #result is [[14, 32], [32, 77]] \n",
        "import numpy as np\n",
        "def matmult(m1,m2):\n",
        "  np_arr1=np.array(m1)\n",
        "  np_arr2=np.array(m2)\n",
        "  return np.dot(np_arr1,np_arr2)\n",
        "\n",
        "matmult([[1,2],[3,4]],[[1,0],[0,1]])\n"
      ],
      "metadata": {
        "colab": {
          "base_uri": "https://localhost:8080/"
        },
        "id": "4pWKU9BMpl5A",
        "outputId": "ae5bd27c-e9c6-4e45-91be-3f4e80876efb"
      },
      "execution_count": 6,
      "outputs": [
        {
          "output_type": "execute_result",
          "data": {
            "text/plain": [
              "array([[1, 2],\n",
              "       [3, 4]])"
            ]
          },
          "metadata": {},
          "execution_count": 6
        }
      ]
    },
    {
      "cell_type": "code",
      "source": [
        "# Write a Python function histogram(l) that takes as input a list of \n",
        "# integers with repetitions and  returns a list of pairs as follows:  \n",
        "# a. for each number n that appears in l, there should be exactly one \n",
        "# pair (n,r) in the list  returned by the function, where r is is \n",
        "# the number of repetitions of n in l. \n",
        "# b. the final list should be sorted in ascending order by r, the \n",
        "# number of repetitions. For  numbers that occur with the same number of \n",
        "# repetitions, arrange the pairs in ascending  order of the value of the number. \n",
        "# For instance: \n",
        "#  histogram([13,12,11,13,14,13,7,7,13,14,12]) \n",
        "# output is: [(11, 1), (7, 2), (12, 2), (14, 2), (13, 4)]  \n",
        "#  histogram([7,12,11,13,7,11,13,14,12])  \n",
        "# output is: [(14, 1), (7, 2), (11, 2), (12, 2), (13, 2)]  \n",
        "#  histogram([13,7,12,7,11,13,14,13,7,11,13,14,12,14,14,7])  \n",
        "# output is: [(11, 2), (12, 2), (7, 4), (13, 4), (14, 4)]\n",
        "\n",
        "\n",
        "def hist(ls):\n",
        "  ls_freq_dict={}\n",
        "  for i in ls:\n",
        "    ls_freq_dict[i]=ls.count(i)\n",
        "\n",
        "  ls_freq_dict_tuple = ls_freq_dict.items()\n",
        "  ls_freq_dict_ls=list(ls_freq_dict_tuple)\n",
        "\n",
        "  ls_freq_dict_ls.sort(key=lambda x:(x[1],x[0]))\n",
        "  return ls_freq_dict_ls\n",
        "print(hist([13,12,11,13,14,13,7,7,13,14,12]))\n",
        "print(hist([13,7,12,7,11,13,14,13,7,11,13,14,12,14,14,7]) )"
      ],
      "metadata": {
        "colab": {
          "base_uri": "https://localhost:8080/"
        },
        "id": "YOsOGHrRsv4v",
        "outputId": "fd1b81a1-4c76-40e0-ac7a-1d7d6104c180"
      },
      "execution_count": 22,
      "outputs": [
        {
          "output_type": "stream",
          "name": "stdout",
          "text": [
            "[(11, 1), (7, 2), (12, 2), (14, 2), (13, 4)]\n",
            "[(11, 2), (12, 2), (7, 4), (13, 4), (14, 4)]\n"
          ]
        }
      ]
    },
    {
      "cell_type": "code",
      "source": [
        ""
      ],
      "metadata": {
        "id": "WHjV21YiuA1C"
      },
      "execution_count": null,
      "outputs": []
    }
  ]
}