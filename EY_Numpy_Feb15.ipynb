{
 "cells": [
  {
   "cell_type": "markdown",
   "id": "33e95144",
   "metadata": {},
   "source": [
    "# **Numpy**\n",
    "\n",
    "* NumPy stands for Numerical Python and \n",
    "* Numpy is linear algebra library for python.\n",
    "* Numpy is incredibly fast.\n",
    "* NumPy handles large datasets effectively and efficiently\n",
    "* Provides support for **large multidimensional array objects**.\n",
    "\n",
    "  **Array**\n",
    "  * Arrays are a collection of elements/values, that can have one or more dimensions. \n",
    "    * An array of one dimension is called a **Vector** \n",
    "    * while having two dimensions is called a **Matrix**.\n",
    "\n",
    "* NumPy arrays are called **ndarray** or **N-dimensional arrays** and \n",
    "\n",
    "                    *They store elements of the same type*\n",
    "\n",
    "Note:\n",
    "> Numpy is know for **high-performance** and \n",
    "> provides **efficient storage and data operations** as *arrays grow in size.*\n",
    "\n",
    "-----\n",
    "\n",
    "### **Python Lists vs NumPy Arrays – What’s the Difference?**\n",
    "\n",
    "* When you want list of homogeneous elements of large size and frees memory faster(10x to 100x).\n",
    "    * NumPy arrays is solution not list.\n",
    "\n"
   ]
  },
  {
   "cell_type": "markdown",
   "id": "a886ad7f",
   "metadata": {},
   "source": [
    "#### Creating ndarrays\n",
    "\n",
    "- 1D arrays can be be described simply by the number of values they contain.\n",
    "- The dimensions of a 2D array are described by the number of rows and columns in the array.numpy describes 2D arrays by first listing the number of rows then the number columns.\n",
    "- The dimensions of a 3D array are described by the number of layers the array contains, and the number of rows and columns in each layer. All layers must have the same number of rows and columns. numpy reports the shape of 3D arrays in the order layers, rows, column"
   ]
  },
  {
   "cell_type": "markdown",
   "id": "c110b309",
   "metadata": {},
   "source": [
    "###  **Size of NumPy array**\n",
    "* determine how many values there are in the array using the size attribute\n",
    "*  It just multiplies the number of ***rows*** by the number of ***columns*** in the ndarray:\n",
    "\n",
    "![image.png](data:image/png;base64,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)"
   ]
  },
  {
   "cell_type": "markdown",
   "id": "9b024128",
   "metadata": {},
   "source": [
    "##  **Creating a NumPy Array**\n",
    "\n",
    "####  **. Creating 1D NumPy Array**"
   ]
  },
  {
   "cell_type": "code",
   "execution_count": 1,
   "id": "055c11d6",
   "metadata": {},
   "outputs": [],
   "source": [
    "import numpy as np\n",
    "#!pip install numpy"
   ]
  },
  {
   "cell_type": "code",
   "execution_count": 2,
   "id": "685c1fc7",
   "metadata": {},
   "outputs": [
    {
     "data": {
      "text/plain": [
       "array([1, 2, 3, 4, 5, 6])"
      ]
     },
     "execution_count": 2,
     "metadata": {},
     "output_type": "execute_result"
    }
   ],
   "source": [
    "a = np.array([1,2,3,4,5,6]) # 1 D array\n",
    "a"
   ]
  },
  {
   "cell_type": "code",
   "execution_count": 3,
   "id": "1de559bc",
   "metadata": {},
   "outputs": [
    {
     "data": {
      "text/plain": [
       "6"
      ]
     },
     "execution_count": 3,
     "metadata": {},
     "output_type": "execute_result"
    }
   ],
   "source": [
    "a.size # no. of elements"
   ]
  },
  {
   "cell_type": "code",
   "execution_count": 4,
   "id": "9d16dcc6",
   "metadata": {},
   "outputs": [
    {
     "data": {
      "text/plain": [
       "1"
      ]
     },
     "execution_count": 4,
     "metadata": {},
     "output_type": "execute_result"
    }
   ],
   "source": [
    "a.ndim # dimension of array"
   ]
  },
  {
   "cell_type": "code",
   "execution_count": 5,
   "id": "577572f2",
   "metadata": {},
   "outputs": [
    {
     "data": {
      "text/plain": [
       "(6,)"
      ]
     },
     "execution_count": 5,
     "metadata": {},
     "output_type": "execute_result"
    }
   ],
   "source": [
    "a.shape"
   ]
  },
  {
   "cell_type": "code",
   "execution_count": 6,
   "id": "d084c810",
   "metadata": {},
   "outputs": [
    {
     "data": {
      "text/plain": [
       "array([[1, 2],\n",
       "       [3, 4]])"
      ]
     },
     "execution_count": 6,
     "metadata": {},
     "output_type": "execute_result"
    }
   ],
   "source": [
    "b = np.array([[1,2],[3,4]]) # 2D array\n",
    "b"
   ]
  },
  {
   "cell_type": "code",
   "execution_count": 7,
   "id": "7bd7619d",
   "metadata": {},
   "outputs": [
    {
     "data": {
      "text/plain": [
       "4"
      ]
     },
     "execution_count": 7,
     "metadata": {},
     "output_type": "execute_result"
    }
   ],
   "source": [
    "b.size # size of array"
   ]
  },
  {
   "cell_type": "code",
   "execution_count": 8,
   "id": "c3eac14b",
   "metadata": {},
   "outputs": [
    {
     "data": {
      "text/plain": [
       "(2, 2)"
      ]
     },
     "execution_count": 8,
     "metadata": {},
     "output_type": "execute_result"
    }
   ],
   "source": [
    "b.shape "
   ]
  },
  {
   "cell_type": "code",
   "execution_count": 11,
   "id": "231b33b4",
   "metadata": {},
   "outputs": [
    {
     "data": {
      "text/plain": [
       "4"
      ]
     },
     "execution_count": 11,
     "metadata": {},
     "output_type": "execute_result"
    }
   ],
   "source": [
    "b.shape[0] * b.shape[1]  # size of array"
   ]
  },
  {
   "cell_type": "code",
   "execution_count": 9,
   "id": "413a7392",
   "metadata": {},
   "outputs": [
    {
     "data": {
      "text/plain": [
       "2"
      ]
     },
     "execution_count": 9,
     "metadata": {},
     "output_type": "execute_result"
    }
   ],
   "source": [
    "b.ndim"
   ]
  },
  {
   "cell_type": "code",
   "execution_count": 12,
   "id": "4737bd01",
   "metadata": {},
   "outputs": [
    {
     "data": {
      "text/plain": [
       "array([[[1, 2],\n",
       "        [3, 4]],\n",
       "\n",
       "       [[1, 2],\n",
       "        [3, 4]]])"
      ]
     },
     "execution_count": 12,
     "metadata": {},
     "output_type": "execute_result"
    }
   ],
   "source": [
    "c = np.array([[[1,2],[3,4]],[[1,2],[3,4]]]) # 3D array\n",
    "c"
   ]
  },
  {
   "cell_type": "code",
   "execution_count": 13,
   "id": "47afa703",
   "metadata": {},
   "outputs": [
    {
     "data": {
      "text/plain": [
       "8"
      ]
     },
     "execution_count": 13,
     "metadata": {},
     "output_type": "execute_result"
    }
   ],
   "source": [
    "c.size"
   ]
  },
  {
   "cell_type": "code",
   "execution_count": 14,
   "id": "0a9e4a16",
   "metadata": {},
   "outputs": [
    {
     "data": {
      "text/plain": [
       "(2, 2, 2)"
      ]
     },
     "execution_count": 14,
     "metadata": {},
     "output_type": "execute_result"
    }
   ],
   "source": [
    "c.shape"
   ]
  },
  {
   "cell_type": "code",
   "execution_count": 15,
   "id": "7efc1561",
   "metadata": {},
   "outputs": [
    {
     "data": {
      "text/plain": [
       "3"
      ]
     },
     "execution_count": 15,
     "metadata": {},
     "output_type": "execute_result"
    }
   ],
   "source": [
    "c.ndim"
   ]
  },
  {
   "cell_type": "code",
   "execution_count": null,
   "id": "8fbf710b",
   "metadata": {},
   "outputs": [],
   "source": []
  },
  {
   "cell_type": "code",
   "execution_count": null,
   "id": "7dc9ece9",
   "metadata": {},
   "outputs": [],
   "source": []
  },
  {
   "cell_type": "markdown",
   "id": "f245377f",
   "metadata": {},
   "source": [
    "**If heterogenous data entered?**\n",
    "\n",
    "* values will be upcast if the types do not match:"
   ]
  },
  {
   "cell_type": "code",
   "execution_count": 16,
   "id": "a129ff69",
   "metadata": {},
   "outputs": [
    {
     "data": {
      "text/plain": [
       "array([1. , 2.5, 3. , 4.8, 2. ])"
      ]
     },
     "execution_count": 16,
     "metadata": {},
     "output_type": "execute_result"
    }
   ],
   "source": [
    "a = np.array([1,2.5,3,4.8,2])\n",
    "a"
   ]
  },
  {
   "cell_type": "code",
   "execution_count": 17,
   "id": "f607302f",
   "metadata": {},
   "outputs": [
    {
     "data": {
      "text/plain": [
       "dtype('float64')"
      ]
     },
     "execution_count": 17,
     "metadata": {},
     "output_type": "execute_result"
    }
   ],
   "source": [
    "a.dtype"
   ]
  },
  {
   "cell_type": "code",
   "execution_count": 18,
   "id": "64733d3b",
   "metadata": {},
   "outputs": [
    {
     "data": {
      "text/plain": [
       "array([1, 2, 3, 4, 2])"
      ]
     },
     "execution_count": 18,
     "metadata": {},
     "output_type": "execute_result"
    }
   ],
   "source": [
    "a = np.array([1,2.5,3,4.8,2],dtype='int')\n",
    "a"
   ]
  },
  {
   "cell_type": "code",
   "execution_count": 19,
   "id": "0a075610",
   "metadata": {},
   "outputs": [
    {
     "data": {
      "text/plain": [
       "dtype('int32')"
      ]
     },
     "execution_count": 19,
     "metadata": {},
     "output_type": "execute_result"
    }
   ],
   "source": [
    "a.dtype"
   ]
  },
  {
   "cell_type": "code",
   "execution_count": null,
   "id": "5567db8a",
   "metadata": {},
   "outputs": [],
   "source": []
  },
  {
   "cell_type": "code",
   "execution_count": null,
   "id": "5a2da87c",
   "metadata": {},
   "outputs": [],
   "source": []
  },
  {
   "cell_type": "code",
   "execution_count": null,
   "id": "d00d8444",
   "metadata": {},
   "outputs": [],
   "source": []
  },
  {
   "cell_type": "markdown",
   "id": "ff436030",
   "metadata": {},
   "source": [
    "#### Creating array of zeros and ones"
   ]
  },
  {
   "cell_type": "code",
   "execution_count": 20,
   "id": "c6bf9671",
   "metadata": {},
   "outputs": [
    {
     "data": {
      "text/plain": [
       "array([0., 0., 0.])"
      ]
     },
     "execution_count": 20,
     "metadata": {},
     "output_type": "execute_result"
    }
   ],
   "source": [
    "np.zeros(3)"
   ]
  },
  {
   "cell_type": "code",
   "execution_count": 21,
   "id": "6f7edcb2",
   "metadata": {},
   "outputs": [
    {
     "data": {
      "text/plain": [
       "array([[0., 0., 0.],\n",
       "       [0., 0., 0.]])"
      ]
     },
     "execution_count": 21,
     "metadata": {},
     "output_type": "execute_result"
    }
   ],
   "source": [
    "np.zeros((2,3))"
   ]
  },
  {
   "cell_type": "code",
   "execution_count": 22,
   "id": "b03ed661",
   "metadata": {},
   "outputs": [
    {
     "data": {
      "text/plain": [
       "array([1., 1., 1., 1.])"
      ]
     },
     "execution_count": 22,
     "metadata": {},
     "output_type": "execute_result"
    }
   ],
   "source": [
    "np.ones(4)"
   ]
  },
  {
   "cell_type": "code",
   "execution_count": 23,
   "id": "499b6b5f",
   "metadata": {},
   "outputs": [
    {
     "data": {
      "text/plain": [
       "array([[1., 1., 1., 1.],\n",
       "       [1., 1., 1., 1.],\n",
       "       [1., 1., 1., 1.],\n",
       "       [1., 1., 1., 1.]])"
      ]
     },
     "execution_count": 23,
     "metadata": {},
     "output_type": "execute_result"
    }
   ],
   "source": [
    "np.ones((4,4))"
   ]
  },
  {
   "cell_type": "code",
   "execution_count": 24,
   "id": "3061fcb4",
   "metadata": {},
   "outputs": [
    {
     "data": {
      "text/plain": [
       "array([[5., 5., 5., 5., 5.],\n",
       "       [5., 5., 5., 5., 5.],\n",
       "       [5., 5., 5., 5., 5.],\n",
       "       [5., 5., 5., 5., 5.],\n",
       "       [5., 5., 5., 5., 5.]])"
      ]
     },
     "execution_count": 24,
     "metadata": {},
     "output_type": "execute_result"
    }
   ],
   "source": [
    "# Create a 5x5 matrix of all 5's\n",
    "np.ones((5,5))*5"
   ]
  },
  {
   "cell_type": "code",
   "execution_count": 25,
   "id": "9a579562",
   "metadata": {},
   "outputs": [
    {
     "data": {
      "text/plain": [
       "array([[5, 5, 5, 5, 5],\n",
       "       [5, 5, 5, 5, 5],\n",
       "       [5, 5, 5, 5, 5],\n",
       "       [5, 5, 5, 5, 5],\n",
       "       [5, 5, 5, 5, 5]])"
      ]
     },
     "execution_count": 25,
     "metadata": {},
     "output_type": "execute_result"
    }
   ],
   "source": [
    "np.full((5,5),5) # constant matrix"
   ]
  },
  {
   "cell_type": "code",
   "execution_count": 26,
   "id": "563308fb",
   "metadata": {},
   "outputs": [
    {
     "data": {
      "text/plain": [
       "array([[1., 0., 0., 0.],\n",
       "       [0., 1., 0., 0.],\n",
       "       [0., 0., 1., 0.],\n",
       "       [0., 0., 0., 1.]])"
      ]
     },
     "execution_count": 26,
     "metadata": {},
     "output_type": "execute_result"
    }
   ],
   "source": [
    "# Identity matrix\n",
    "np.eye(4,4)"
   ]
  },
  {
   "cell_type": "code",
   "execution_count": 30,
   "id": "9787d616",
   "metadata": {},
   "outputs": [
    {
     "data": {
      "text/plain": [
       "array([0.25986871, 0.58260211, 0.3104237 , 0.96336396, 0.28182093])"
      ]
     },
     "execution_count": 30,
     "metadata": {},
     "output_type": "execute_result"
    }
   ],
   "source": [
    "# Random numbers\n",
    "np.random.rand(5) #1D array"
   ]
  },
  {
   "cell_type": "code",
   "execution_count": 31,
   "id": "d6ab5747",
   "metadata": {},
   "outputs": [
    {
     "data": {
      "text/plain": [
       "array([[0.03538878, 0.43195088, 0.50131339, 0.90430483],\n",
       "       [0.8162698 , 0.67406161, 0.65304881, 0.6222277 ],\n",
       "       [0.36911841, 0.148537  , 0.53391114, 0.81252374]])"
      ]
     },
     "execution_count": 31,
     "metadata": {},
     "output_type": "execute_result"
    }
   ],
   "source": [
    "np.random.rand(3,4) # 2D array"
   ]
  },
  {
   "cell_type": "code",
   "execution_count": 32,
   "id": "4dc4030d",
   "metadata": {},
   "outputs": [
    {
     "data": {
      "text/plain": [
       "array([[[0.12299156, 0.41250737, 0.99678289, 0.03331421],\n",
       "        [0.12347128, 0.42197858, 0.12426889, 0.31420734],\n",
       "        [0.47894686, 0.26969622, 0.8643335 , 0.27109822]],\n",
       "\n",
       "       [[0.46989724, 0.23087654, 0.76645365, 0.71967851],\n",
       "        [0.87407715, 0.59698659, 0.82752992, 0.51551326],\n",
       "        [0.45441385, 0.93199224, 0.82800759, 0.61908385]]])"
      ]
     },
     "execution_count": 32,
     "metadata": {},
     "output_type": "execute_result"
    }
   ],
   "source": [
    "np.random.rand(2,3,4) #3D array"
   ]
  },
  {
   "cell_type": "code",
   "execution_count": 35,
   "id": "40215ef2",
   "metadata": {},
   "outputs": [
    {
     "data": {
      "text/plain": [
       "4"
      ]
     },
     "execution_count": 35,
     "metadata": {},
     "output_type": "execute_result"
    }
   ],
   "source": [
    "np.random.randint(7)"
   ]
  },
  {
   "cell_type": "code",
   "execution_count": 48,
   "id": "f3cb769b",
   "metadata": {},
   "outputs": [
    {
     "data": {
      "text/plain": [
       "array([[ 9, 11, 14, 13],\n",
       "       [ 4, 11,  7,  4]])"
      ]
     },
     "execution_count": 48,
     "metadata": {},
     "output_type": "execute_result"
    }
   ],
   "source": [
    "np.random.randint(3,17,size=(2,4))"
   ]
  },
  {
   "cell_type": "code",
   "execution_count": 58,
   "id": "755c8533",
   "metadata": {},
   "outputs": [
    {
     "data": {
      "text/plain": [
       "array([[15,  8,  3,  6],\n",
       "       [14,  6, 10, 12]])"
      ]
     },
     "execution_count": 58,
     "metadata": {},
     "output_type": "execute_result"
    }
   ],
   "source": [
    "np.random.seed(0)\n",
    "np.random.randint(3,17,size=(2,4))"
   ]
  },
  {
   "cell_type": "code",
   "execution_count": 60,
   "id": "f32c318e",
   "metadata": {},
   "outputs": [
    {
     "data": {
      "text/plain": [
       "array([0, 1, 2, 3, 4, 5, 6, 7, 8, 9])"
      ]
     },
     "execution_count": 60,
     "metadata": {},
     "output_type": "execute_result"
    }
   ],
   "source": [
    "np.arange(10)"
   ]
  },
  {
   "cell_type": "code",
   "execution_count": 62,
   "id": "3c896c63",
   "metadata": {},
   "outputs": [
    {
     "data": {
      "text/plain": [
       "array([1, 3, 5, 7, 9])"
      ]
     },
     "execution_count": 62,
     "metadata": {},
     "output_type": "execute_result"
    }
   ],
   "source": [
    "np.arange(1,10,2)"
   ]
  },
  {
   "cell_type": "code",
   "execution_count": 63,
   "id": "ca7731cf",
   "metadata": {},
   "outputs": [
    {
     "data": {
      "text/plain": [
       "array([20, 19, 18, 17, 16, 15, 14, 13, 12, 11])"
      ]
     },
     "execution_count": 63,
     "metadata": {},
     "output_type": "execute_result"
    }
   ],
   "source": [
    "# 20 to 10 using arange\n",
    "np.arange(20,10,-1)"
   ]
  },
  {
   "cell_type": "code",
   "execution_count": null,
   "id": "569ec4db",
   "metadata": {},
   "outputs": [],
   "source": [
    "# Convert 1D array to n-d arrays"
   ]
  },
  {
   "cell_type": "code",
   "execution_count": 69,
   "id": "59fc2b80",
   "metadata": {},
   "outputs": [
    {
     "data": {
      "text/plain": [
       "array([[1. , 2.5, 3. , 4.8, 2. ]])"
      ]
     },
     "execution_count": 69,
     "metadata": {},
     "output_type": "execute_result"
    }
   ],
   "source": [
    "a = np.array([1,2.5,3,4.8,2],ndmin=2) # 1D array to 2D array\n",
    "a"
   ]
  },
  {
   "cell_type": "code",
   "execution_count": 70,
   "id": "05b1aa04",
   "metadata": {},
   "outputs": [
    {
     "data": {
      "text/plain": [
       "(1, 5)"
      ]
     },
     "execution_count": 70,
     "metadata": {},
     "output_type": "execute_result"
    }
   ],
   "source": [
    "a.shape"
   ]
  },
  {
   "cell_type": "code",
   "execution_count": 71,
   "id": "60d1aeaa",
   "metadata": {},
   "outputs": [
    {
     "data": {
      "text/plain": [
       "2"
      ]
     },
     "execution_count": 71,
     "metadata": {},
     "output_type": "execute_result"
    }
   ],
   "source": [
    "a.ndim"
   ]
  },
  {
   "cell_type": "code",
   "execution_count": 73,
   "id": "c14c7628",
   "metadata": {},
   "outputs": [
    {
     "data": {
      "text/plain": [
       "(1, 1, 5)"
      ]
     },
     "execution_count": 73,
     "metadata": {},
     "output_type": "execute_result"
    }
   ],
   "source": [
    "a3 = np.array([1,2.5,3,4.8,2],ndmin=3) # 1D array to 3D array\n",
    "a3.shape"
   ]
  },
  {
   "cell_type": "code",
   "execution_count": 74,
   "id": "3f01146e",
   "metadata": {},
   "outputs": [
    {
     "data": {
      "text/plain": [
       "3"
      ]
     },
     "execution_count": 74,
     "metadata": {},
     "output_type": "execute_result"
    }
   ],
   "source": [
    "a3.ndim"
   ]
  },
  {
   "cell_type": "code",
   "execution_count": null,
   "id": "93364fb5",
   "metadata": {},
   "outputs": [],
   "source": [
    "# Another method\n",
    "# Reshape arrays"
   ]
  },
  {
   "cell_type": "code",
   "execution_count": 75,
   "id": "a1c899e6",
   "metadata": {},
   "outputs": [
    {
     "data": {
      "text/plain": [
       "array([0, 1, 2, 3, 4, 5, 6, 7])"
      ]
     },
     "execution_count": 75,
     "metadata": {},
     "output_type": "execute_result"
    }
   ],
   "source": [
    "x = np.arange(8)\n",
    "x"
   ]
  },
  {
   "cell_type": "code",
   "execution_count": 76,
   "id": "0991a59b",
   "metadata": {},
   "outputs": [
    {
     "data": {
      "text/plain": [
       "array([[0, 1, 2, 3],\n",
       "       [4, 5, 6, 7]])"
      ]
     },
     "execution_count": 76,
     "metadata": {},
     "output_type": "execute_result"
    }
   ],
   "source": [
    "x.reshape(2,4)"
   ]
  },
  {
   "cell_type": "code",
   "execution_count": 80,
   "id": "7bfc18df",
   "metadata": {},
   "outputs": [
    {
     "data": {
      "text/plain": [
       "array([[0, 1],\n",
       "       [2, 3],\n",
       "       [4, 5],\n",
       "       [6, 7]])"
      ]
     },
     "execution_count": 80,
     "metadata": {},
     "output_type": "execute_result"
    }
   ],
   "source": [
    "x.reshape(4,-1)"
   ]
  },
  {
   "cell_type": "code",
   "execution_count": 81,
   "id": "e133883a",
   "metadata": {},
   "outputs": [
    {
     "data": {
      "text/plain": [
       "array([[[0],\n",
       "        [1],\n",
       "        [2],\n",
       "        [3]],\n",
       "\n",
       "       [[4],\n",
       "        [5],\n",
       "        [6],\n",
       "        [7]]])"
      ]
     },
     "execution_count": 81,
     "metadata": {},
     "output_type": "execute_result"
    }
   ],
   "source": [
    "x.reshape(2,4,1) # 3D array"
   ]
  },
  {
   "cell_type": "code",
   "execution_count": 82,
   "id": "390e2050",
   "metadata": {},
   "outputs": [
    {
     "data": {
      "text/plain": [
       "array([[[0, 1],\n",
       "        [2, 3]],\n",
       "\n",
       "       [[4, 5],\n",
       "        [6, 7]]])"
      ]
     },
     "execution_count": 82,
     "metadata": {},
     "output_type": "execute_result"
    }
   ],
   "source": [
    "x.reshape(2,2,-1) # 3d array"
   ]
  },
  {
   "cell_type": "code",
   "execution_count": null,
   "id": "7212d531",
   "metadata": {},
   "outputs": [],
   "source": []
  },
  {
   "cell_type": "markdown",
   "id": "5effe815",
   "metadata": {},
   "source": [
    "#### Array Indexing"
   ]
  },
  {
   "cell_type": "code",
   "execution_count": 83,
   "id": "16d2f6a1",
   "metadata": {},
   "outputs": [
    {
     "data": {
      "text/plain": [
       "array([15, 17, 19, 21, 23, 25, 27, 29])"
      ]
     },
     "execution_count": 83,
     "metadata": {},
     "output_type": "execute_result"
    }
   ],
   "source": [
    "a1 = np.arange(15,30,2)\n",
    "a1"
   ]
  },
  {
   "cell_type": "code",
   "execution_count": 90,
   "id": "acdafcc9",
   "metadata": {},
   "outputs": [
    {
     "data": {
      "text/plain": [
       "array([17, 21, 25, 29])"
      ]
     },
     "execution_count": 90,
     "metadata": {},
     "output_type": "execute_result"
    }
   ],
   "source": [
    "# Extract 17,21,25,29 from 1D array\n",
    "a1[1::2]"
   ]
  },
  {
   "cell_type": "code",
   "execution_count": 91,
   "id": "6a5974af",
   "metadata": {},
   "outputs": [
    {
     "data": {
      "text/plain": [
       "array([[15, 17, 19, 21],\n",
       "       [23, 25, 27, 29]])"
      ]
     },
     "execution_count": 91,
     "metadata": {},
     "output_type": "execute_result"
    }
   ],
   "source": [
    "a2 = np.arange(15,30,2).reshape(4,-1)\n",
    "a2"
   ]
  },
  {
   "cell_type": "code",
   "execution_count": 93,
   "id": "26903732",
   "metadata": {},
   "outputs": [
    {
     "data": {
      "text/plain": [
       "array([19, 27])"
      ]
     },
     "execution_count": 93,
     "metadata": {},
     "output_type": "execute_result"
    }
   ],
   "source": [
    "#3rd column of 2D array\n",
    "a2[:,2]"
   ]
  },
  {
   "cell_type": "code",
   "execution_count": 95,
   "id": "804f6aa9",
   "metadata": {},
   "outputs": [
    {
     "data": {
      "text/plain": [
       "array([[15, 17],\n",
       "       [19, 21],\n",
       "       [23, 25],\n",
       "       [27, 29]])"
      ]
     },
     "execution_count": 95,
     "metadata": {},
     "output_type": "execute_result"
    }
   ],
   "source": [
    "a2 = np.arange(15,30,2).reshape(4,-1)\n",
    "a2"
   ]
  },
  {
   "cell_type": "code",
   "execution_count": 96,
   "id": "d96cb40e",
   "metadata": {},
   "outputs": [
    {
     "data": {
      "text/plain": [
       "array([23, 25])"
      ]
     },
     "execution_count": 96,
     "metadata": {},
     "output_type": "execute_result"
    }
   ],
   "source": [
    "# 3rd row\n",
    "a2[2,:]"
   ]
  },
  {
   "cell_type": "code",
   "execution_count": 105,
   "id": "2ed2f7fb",
   "metadata": {},
   "outputs": [
    {
     "data": {
      "text/plain": [
       "array([[[ 0,  1,  2,  3,  4],\n",
       "        [ 5,  6,  7,  8,  9]],\n",
       "\n",
       "       [[10, 11, 12, 13, 14],\n",
       "        [15, 16, 17, 18, 19]],\n",
       "\n",
       "       [[20, 21, 22, 23, 24],\n",
       "        [25, 26, 27, 28, 29]]])"
      ]
     },
     "execution_count": 105,
     "metadata": {},
     "output_type": "execute_result"
    }
   ],
   "source": [
    "# 3D array\n",
    "a3 = np.arange(0,30,1).reshape(3,2,-1)\n",
    "a3"
   ]
  },
  {
   "cell_type": "code",
   "execution_count": 106,
   "id": "5ec5b274",
   "metadata": {},
   "outputs": [
    {
     "data": {
      "text/plain": [
       "array([22, 27])"
      ]
     },
     "execution_count": 106,
     "metadata": {},
     "output_type": "execute_result"
    }
   ],
   "source": [
    "# Extract 22 and 27 from 3D array # (layers -0,1,2,rows - 0,1,columns -0,1,2,3,4)\n",
    "a3[2,:,2]"
   ]
  },
  {
   "cell_type": "code",
   "execution_count": 107,
   "id": "3eda843e",
   "metadata": {},
   "outputs": [
    {
     "data": {
      "text/plain": [
       "array([[ 4,  9],\n",
       "       [14, 19],\n",
       "       [24, 29]])"
      ]
     },
     "execution_count": 107,
     "metadata": {},
     "output_type": "execute_result"
    }
   ],
   "source": [
    "# Extract the last column from 3 D array\n",
    "a3[:,:,4]"
   ]
  },
  {
   "cell_type": "code",
   "execution_count": 110,
   "id": "051f36fd",
   "metadata": {},
   "outputs": [
    {
     "data": {
      "text/plain": [
       "array([ 0,  1,  2,  3,  4,  5,  6,  7,  8,  9, 10, 11, 12, 13, 14, 15, 16,\n",
       "       17, 18, 19, 20, 21, 22, 23, 24, 25, 26, 27, 28, 29])"
      ]
     },
     "execution_count": 110,
     "metadata": {},
     "output_type": "execute_result"
    }
   ],
   "source": [
    "a3.flatten() # 3D array to 1D array"
   ]
  },
  {
   "cell_type": "markdown",
   "id": "16c77e2c",
   "metadata": {},
   "source": [
    "### **Flattening a NumPy array**\n",
    "  * Sometimes when you have a multidimensional array and want to collapse it to a single-dimensional array, \n",
    "  * you can either use the **`flatten()`** method.\n",
    "\n",
    "  ![image.png](data:image/png;base64,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)"
   ]
  },
  {
   "cell_type": "code",
   "execution_count": 113,
   "id": "d0fac4ac",
   "metadata": {},
   "outputs": [
    {
     "data": {
      "text/plain": [
       "array([[0, 1, 2],\n",
       "       [3, 4, 5]])"
      ]
     },
     "execution_count": 113,
     "metadata": {},
     "output_type": "execute_result"
    }
   ],
   "source": [
    "# Swap rows and columns\n",
    "a = np.arange(6).reshape(2,3)\n",
    "a"
   ]
  },
  {
   "cell_type": "code",
   "execution_count": 114,
   "id": "81ee03b2",
   "metadata": {},
   "outputs": [
    {
     "data": {
      "text/plain": [
       "array([[0, 3],\n",
       "       [1, 4],\n",
       "       [2, 5]])"
      ]
     },
     "execution_count": 114,
     "metadata": {},
     "output_type": "execute_result"
    }
   ],
   "source": [
    "np.transpose(a)"
   ]
  },
  {
   "cell_type": "code",
   "execution_count": 115,
   "id": "c270bc57",
   "metadata": {},
   "outputs": [
    {
     "data": {
      "text/plain": [
       "array([[0, 3],\n",
       "       [1, 4],\n",
       "       [2, 5]])"
      ]
     },
     "execution_count": 115,
     "metadata": {},
     "output_type": "execute_result"
    }
   ],
   "source": [
    "a.T"
   ]
  },
  {
   "cell_type": "code",
   "execution_count": 120,
   "id": "04d65402",
   "metadata": {},
   "outputs": [
    {
     "data": {
      "text/plain": [
       "array([1, 1, 1, 2, 2, 2, 3, 3, 3])"
      ]
     },
     "execution_count": 120,
     "metadata": {},
     "output_type": "execute_result"
    }
   ],
   "source": [
    "# Repeat the elements/array\n",
    "a = np.array([1,2,3])\n",
    "np.repeat(a,3)"
   ]
  },
  {
   "cell_type": "code",
   "execution_count": 121,
   "id": "75e74dde",
   "metadata": {},
   "outputs": [
    {
     "data": {
      "text/plain": [
       "array([1, 2, 3, 1, 2, 3, 1, 2, 3])"
      ]
     },
     "execution_count": 121,
     "metadata": {},
     "output_type": "execute_result"
    }
   ],
   "source": [
    "np.tile(a,3) "
   ]
  },
  {
   "cell_type": "code",
   "execution_count": 122,
   "id": "9044a009",
   "metadata": {},
   "outputs": [
    {
     "data": {
      "text/plain": [
       "array([[ 1,  2,  3],\n",
       "       [ 4,  5,  6],\n",
       "       [ 7,  8,  9],\n",
       "       [10, 11, 12]])"
      ]
     },
     "execution_count": 122,
     "metadata": {},
     "output_type": "execute_result"
    }
   ],
   "source": [
    "x = np.array([[1,2,3], [4,5,6], [7,8,9], [10, 11, 12]])\n",
    "x"
   ]
  },
  {
   "cell_type": "code",
   "execution_count": 123,
   "id": "05539540",
   "metadata": {},
   "outputs": [],
   "source": [
    "y = np.array([0,2,0,1]) # indices"
   ]
  },
  {
   "cell_type": "code",
   "execution_count": null,
   "id": "846f15fb",
   "metadata": {},
   "outputs": [],
   "source": [
    "# Output - [1 6 7 11]"
   ]
  },
  {
   "cell_type": "code",
   "execution_count": 124,
   "id": "7a9f3fa7",
   "metadata": {},
   "outputs": [
    {
     "name": "stdout",
     "output_type": "stream",
     "text": [
      "1\n",
      "6\n",
      "7\n",
      "11\n"
     ]
    }
   ],
   "source": [
    "for i in range(len(y)):\n",
    "    print(x[i,y[i]])"
   ]
  },
  {
   "cell_type": "code",
   "execution_count": 127,
   "id": "ca151de3",
   "metadata": {},
   "outputs": [
    {
     "data": {
      "text/plain": [
       "array([ 1,  6,  7, 11])"
      ]
     },
     "execution_count": 127,
     "metadata": {},
     "output_type": "execute_result"
    }
   ],
   "source": [
    "x[np.arange(4),y] "
   ]
  },
  {
   "cell_type": "code",
   "execution_count": 131,
   "id": "8d210a99",
   "metadata": {},
   "outputs": [
    {
     "data": {
      "text/plain": [
       "array([[0, 1, 2, 3, 4],\n",
       "       [5, 6, 7, 8, 9]])"
      ]
     },
     "execution_count": 131,
     "metadata": {},
     "output_type": "execute_result"
    }
   ],
   "source": [
    "x1 = np.arange(10).reshape(2,5)\n",
    "y1 = np.arange(11,21).reshape(2,5)\n",
    "x1"
   ]
  },
  {
   "cell_type": "code",
   "execution_count": 132,
   "id": "8ad5d464",
   "metadata": {},
   "outputs": [
    {
     "data": {
      "text/plain": [
       "array([[11, 12, 13, 14, 15],\n",
       "       [16, 17, 18, 19, 20]])"
      ]
     },
     "execution_count": 132,
     "metadata": {},
     "output_type": "execute_result"
    }
   ],
   "source": [
    "y1"
   ]
  },
  {
   "cell_type": "code",
   "execution_count": 133,
   "id": "7926d5db",
   "metadata": {},
   "outputs": [
    {
     "data": {
      "text/plain": [
       "array([[ 0,  1,  2,  3,  4],\n",
       "       [ 5,  6,  7,  8,  9],\n",
       "       [11, 12, 13, 14, 15],\n",
       "       [16, 17, 18, 19, 20]])"
      ]
     },
     "execution_count": 133,
     "metadata": {},
     "output_type": "execute_result"
    }
   ],
   "source": [
    "# concatenate\n",
    "np.concatenate([x1,y1])"
   ]
  },
  {
   "cell_type": "code",
   "execution_count": 134,
   "id": "c2daa6da",
   "metadata": {},
   "outputs": [
    {
     "data": {
      "text/plain": [
       "array([[ 0,  1,  2,  3,  4, 11, 12, 13, 14, 15],\n",
       "       [ 5,  6,  7,  8,  9, 16, 17, 18, 19, 20]])"
      ]
     },
     "execution_count": 134,
     "metadata": {},
     "output_type": "execute_result"
    }
   ],
   "source": [
    "np.concatenate([x1,y1],axis=1)"
   ]
  },
  {
   "cell_type": "code",
   "execution_count": 135,
   "id": "54c35675",
   "metadata": {},
   "outputs": [
    {
     "data": {
      "text/plain": [
       "array([[ 0,  1,  2,  3,  4],\n",
       "       [ 5,  6,  7,  8,  9],\n",
       "       [11, 12, 13, 14, 15],\n",
       "       [16, 17, 18, 19, 20]])"
      ]
     },
     "execution_count": 135,
     "metadata": {},
     "output_type": "execute_result"
    }
   ],
   "source": [
    "np.vstack([x1,y1])"
   ]
  },
  {
   "cell_type": "code",
   "execution_count": 136,
   "id": "c906b7d1",
   "metadata": {},
   "outputs": [
    {
     "data": {
      "text/plain": [
       "array([[ 0,  1,  2,  3,  4, 11, 12, 13, 14, 15],\n",
       "       [ 5,  6,  7,  8,  9, 16, 17, 18, 19, 20]])"
      ]
     },
     "execution_count": 136,
     "metadata": {},
     "output_type": "execute_result"
    }
   ],
   "source": [
    "np.hstack([x1,y1])"
   ]
  },
  {
   "cell_type": "markdown",
   "id": "d3be219b",
   "metadata": {},
   "source": [
    "#### Joining Arrays Using Stack Functions\n",
    "\n",
    "- Stacking is same as concatenation, the only difference is that stacking is done along a new axis\n",
    "- We can concatenate two 1-D arrays along the second axis which would result in putting them one over the other, ie. stacking\n"
   ]
  },
  {
   "cell_type": "code",
   "execution_count": 198,
   "id": "431bd70e",
   "metadata": {},
   "outputs": [],
   "source": [
    "# Arithmetic operations\n",
    "a = np.array([1,2,3,4])\n",
    "b = np.array([4,5,6,8])"
   ]
  },
  {
   "cell_type": "code",
   "execution_count": 138,
   "id": "3771f34a",
   "metadata": {},
   "outputs": [
    {
     "data": {
      "text/plain": [
       "array([ 5,  7,  9, 12])"
      ]
     },
     "execution_count": 138,
     "metadata": {},
     "output_type": "execute_result"
    }
   ],
   "source": [
    "np.add(a,b)"
   ]
  },
  {
   "cell_type": "code",
   "execution_count": 139,
   "id": "9eee881e",
   "metadata": {},
   "outputs": [
    {
     "data": {
      "text/plain": [
       "array([ 5,  7,  9, 12])"
      ]
     },
     "execution_count": 139,
     "metadata": {},
     "output_type": "execute_result"
    }
   ],
   "source": [
    "a+b"
   ]
  },
  {
   "cell_type": "code",
   "execution_count": 140,
   "id": "1a065d49",
   "metadata": {},
   "outputs": [
    {
     "data": {
      "text/plain": [
       "array([-3, -3, -3, -4])"
      ]
     },
     "execution_count": 140,
     "metadata": {},
     "output_type": "execute_result"
    }
   ],
   "source": [
    "np.subtract(a,b)"
   ]
  },
  {
   "cell_type": "code",
   "execution_count": 141,
   "id": "11bde769",
   "metadata": {},
   "outputs": [
    {
     "data": {
      "text/plain": [
       "array([ 4, 10, 18, 32])"
      ]
     },
     "execution_count": 141,
     "metadata": {},
     "output_type": "execute_result"
    }
   ],
   "source": [
    "np.multiply(a,b)"
   ]
  },
  {
   "cell_type": "code",
   "execution_count": 142,
   "id": "699e8e81",
   "metadata": {},
   "outputs": [
    {
     "data": {
      "text/plain": [
       "array([0.25, 0.4 , 0.5 , 0.5 ])"
      ]
     },
     "execution_count": 142,
     "metadata": {},
     "output_type": "execute_result"
    }
   ],
   "source": [
    "np.divide(a,b)"
   ]
  },
  {
   "cell_type": "code",
   "execution_count": 143,
   "id": "7d8705a3",
   "metadata": {},
   "outputs": [
    {
     "data": {
      "text/plain": [
       "array([1.        , 1.41421356, 1.73205081, 2.        ])"
      ]
     },
     "execution_count": 143,
     "metadata": {},
     "output_type": "execute_result"
    }
   ],
   "source": [
    "np.sqrt(a)"
   ]
  },
  {
   "cell_type": "code",
   "execution_count": 199,
   "id": "eac0c2cf",
   "metadata": {},
   "outputs": [
    {
     "name": "stdout",
     "output_type": "stream",
     "text": [
      "[1 2 3 4]\n",
      "[4 5 6 8]\n"
     ]
    }
   ],
   "source": [
    "print(a)\n",
    "print(b)"
   ]
  },
  {
   "cell_type": "code",
   "execution_count": 200,
   "id": "cd6d965f",
   "metadata": {},
   "outputs": [
    {
     "data": {
      "text/plain": [
       "array([    1,    32,   729, 65536], dtype=int32)"
      ]
     },
     "execution_count": 200,
     "metadata": {},
     "output_type": "execute_result"
    }
   ],
   "source": [
    "np.power(a,b)"
   ]
  },
  {
   "cell_type": "code",
   "execution_count": 201,
   "id": "663679bc",
   "metadata": {},
   "outputs": [
    {
     "data": {
      "text/plain": [
       "array([ 1,  8, 27, 64], dtype=int32)"
      ]
     },
     "execution_count": 201,
     "metadata": {},
     "output_type": "execute_result"
    }
   ],
   "source": [
    "np.power(a,3)"
   ]
  },
  {
   "cell_type": "code",
   "execution_count": 202,
   "id": "7397cc9f",
   "metadata": {},
   "outputs": [
    {
     "data": {
      "text/plain": [
       "array([1, 2, 3, 4], dtype=int32)"
      ]
     },
     "execution_count": 202,
     "metadata": {},
     "output_type": "execute_result"
    }
   ],
   "source": [
    "np.mod(a,b)"
   ]
  },
  {
   "cell_type": "code",
   "execution_count": 203,
   "id": "dd2c8348",
   "metadata": {},
   "outputs": [
    {
     "data": {
      "text/plain": [
       "array([[1, 2],\n",
       "       [3, 4]])"
      ]
     },
     "execution_count": 203,
     "metadata": {},
     "output_type": "execute_result"
    }
   ],
   "source": [
    "# In 2D array \n",
    "x = np.array([[1,2],[3,4]])\n",
    "x"
   ]
  },
  {
   "cell_type": "code",
   "execution_count": 204,
   "id": "16fecaaf",
   "metadata": {},
   "outputs": [
    {
     "data": {
      "text/plain": [
       "10"
      ]
     },
     "execution_count": 204,
     "metadata": {},
     "output_type": "execute_result"
    }
   ],
   "source": [
    "np.sum(x)"
   ]
  },
  {
   "cell_type": "code",
   "execution_count": 205,
   "id": "00c8e458",
   "metadata": {},
   "outputs": [
    {
     "data": {
      "text/plain": [
       "array([3, 7])"
      ]
     },
     "execution_count": 205,
     "metadata": {},
     "output_type": "execute_result"
    }
   ],
   "source": [
    "np.sum(x,axis=1)"
   ]
  },
  {
   "cell_type": "code",
   "execution_count": 206,
   "id": "43c9a10f",
   "metadata": {},
   "outputs": [
    {
     "data": {
      "text/plain": [
       "array([4, 6])"
      ]
     },
     "execution_count": 206,
     "metadata": {},
     "output_type": "execute_result"
    }
   ],
   "source": [
    "np.sum(x,axis=0)"
   ]
  },
  {
   "cell_type": "code",
   "execution_count": null,
   "id": "171f2201",
   "metadata": {},
   "outputs": [],
   "source": []
  },
  {
   "cell_type": "code",
   "execution_count": null,
   "id": "3a2c6a61",
   "metadata": {},
   "outputs": [],
   "source": []
  },
  {
   "cell_type": "code",
   "execution_count": 144,
   "id": "567cdcb2",
   "metadata": {},
   "outputs": [
    {
     "data": {
      "text/plain": [
       "['ALLOW_THREADS',\n",
       " 'AxisError',\n",
       " 'BUFSIZE',\n",
       " 'Bytes0',\n",
       " 'CLIP',\n",
       " 'ComplexWarning',\n",
       " 'DataSource',\n",
       " 'Datetime64',\n",
       " 'ERR_CALL',\n",
       " 'ERR_DEFAULT',\n",
       " 'ERR_IGNORE',\n",
       " 'ERR_LOG',\n",
       " 'ERR_PRINT',\n",
       " 'ERR_RAISE',\n",
       " 'ERR_WARN',\n",
       " 'FLOATING_POINT_SUPPORT',\n",
       " 'FPE_DIVIDEBYZERO',\n",
       " 'FPE_INVALID',\n",
       " 'FPE_OVERFLOW',\n",
       " 'FPE_UNDERFLOW',\n",
       " 'False_',\n",
       " 'Inf',\n",
       " 'Infinity',\n",
       " 'MAXDIMS',\n",
       " 'MAY_SHARE_BOUNDS',\n",
       " 'MAY_SHARE_EXACT',\n",
       " 'MachAr',\n",
       " 'ModuleDeprecationWarning',\n",
       " 'NAN',\n",
       " 'NINF',\n",
       " 'NZERO',\n",
       " 'NaN',\n",
       " 'PINF',\n",
       " 'PZERO',\n",
       " 'RAISE',\n",
       " 'RankWarning',\n",
       " 'SHIFT_DIVIDEBYZERO',\n",
       " 'SHIFT_INVALID',\n",
       " 'SHIFT_OVERFLOW',\n",
       " 'SHIFT_UNDERFLOW',\n",
       " 'ScalarType',\n",
       " 'Str0',\n",
       " 'Tester',\n",
       " 'TooHardError',\n",
       " 'True_',\n",
       " 'UFUNC_BUFSIZE_DEFAULT',\n",
       " 'UFUNC_PYVALS_NAME',\n",
       " 'Uint64',\n",
       " 'VisibleDeprecationWarning',\n",
       " 'WRAP',\n",
       " '_NoValue',\n",
       " '_UFUNC_API',\n",
       " '__NUMPY_SETUP__',\n",
       " '__all__',\n",
       " '__builtins__',\n",
       " '__cached__',\n",
       " '__config__',\n",
       " '__deprecated_attrs__',\n",
       " '__dir__',\n",
       " '__doc__',\n",
       " '__expired_functions__',\n",
       " '__file__',\n",
       " '__getattr__',\n",
       " '__git_revision__',\n",
       " '__loader__',\n",
       " '__mkl_version__',\n",
       " '__name__',\n",
       " '__package__',\n",
       " '__path__',\n",
       " '__spec__',\n",
       " '__version__',\n",
       " '_add_newdoc_ufunc',\n",
       " '_distributor_init',\n",
       " '_financial_names',\n",
       " '_globals',\n",
       " '_mat',\n",
       " '_pytesttester',\n",
       " 'abs',\n",
       " 'absolute',\n",
       " 'add',\n",
       " 'add_docstring',\n",
       " 'add_newdoc',\n",
       " 'add_newdoc_ufunc',\n",
       " 'alen',\n",
       " 'all',\n",
       " 'allclose',\n",
       " 'alltrue',\n",
       " 'amax',\n",
       " 'amin',\n",
       " 'angle',\n",
       " 'any',\n",
       " 'append',\n",
       " 'apply_along_axis',\n",
       " 'apply_over_axes',\n",
       " 'arange',\n",
       " 'arccos',\n",
       " 'arccosh',\n",
       " 'arcsin',\n",
       " 'arcsinh',\n",
       " 'arctan',\n",
       " 'arctan2',\n",
       " 'arctanh',\n",
       " 'argmax',\n",
       " 'argmin',\n",
       " 'argpartition',\n",
       " 'argsort',\n",
       " 'argwhere',\n",
       " 'around',\n",
       " 'array',\n",
       " 'array2string',\n",
       " 'array_equal',\n",
       " 'array_equiv',\n",
       " 'array_repr',\n",
       " 'array_split',\n",
       " 'array_str',\n",
       " 'asanyarray',\n",
       " 'asarray',\n",
       " 'asarray_chkfinite',\n",
       " 'ascontiguousarray',\n",
       " 'asfarray',\n",
       " 'asfortranarray',\n",
       " 'asmatrix',\n",
       " 'asscalar',\n",
       " 'atleast_1d',\n",
       " 'atleast_2d',\n",
       " 'atleast_3d',\n",
       " 'average',\n",
       " 'bartlett',\n",
       " 'base_repr',\n",
       " 'binary_repr',\n",
       " 'bincount',\n",
       " 'bitwise_and',\n",
       " 'bitwise_not',\n",
       " 'bitwise_or',\n",
       " 'bitwise_xor',\n",
       " 'blackman',\n",
       " 'block',\n",
       " 'bmat',\n",
       " 'bool8',\n",
       " 'bool_',\n",
       " 'broadcast',\n",
       " 'broadcast_arrays',\n",
       " 'broadcast_shapes',\n",
       " 'broadcast_to',\n",
       " 'busday_count',\n",
       " 'busday_offset',\n",
       " 'busdaycalendar',\n",
       " 'byte',\n",
       " 'byte_bounds',\n",
       " 'bytes0',\n",
       " 'bytes_',\n",
       " 'c_',\n",
       " 'can_cast',\n",
       " 'cast',\n",
       " 'cbrt',\n",
       " 'cdouble',\n",
       " 'ceil',\n",
       " 'cfloat',\n",
       " 'char',\n",
       " 'character',\n",
       " 'chararray',\n",
       " 'choose',\n",
       " 'clip',\n",
       " 'clongdouble',\n",
       " 'clongfloat',\n",
       " 'column_stack',\n",
       " 'common_type',\n",
       " 'compare_chararrays',\n",
       " 'compat',\n",
       " 'complex128',\n",
       " 'complex64',\n",
       " 'complex_',\n",
       " 'complexfloating',\n",
       " 'compress',\n",
       " 'concatenate',\n",
       " 'conj',\n",
       " 'conjugate',\n",
       " 'convolve',\n",
       " 'copy',\n",
       " 'copysign',\n",
       " 'copyto',\n",
       " 'core',\n",
       " 'corrcoef',\n",
       " 'correlate',\n",
       " 'cos',\n",
       " 'cosh',\n",
       " 'count_nonzero',\n",
       " 'cov',\n",
       " 'cross',\n",
       " 'csingle',\n",
       " 'ctypeslib',\n",
       " 'cumprod',\n",
       " 'cumproduct',\n",
       " 'cumsum',\n",
       " 'datetime64',\n",
       " 'datetime_as_string',\n",
       " 'datetime_data',\n",
       " 'deg2rad',\n",
       " 'degrees',\n",
       " 'delete',\n",
       " 'deprecate',\n",
       " 'deprecate_with_doc',\n",
       " 'diag',\n",
       " 'diag_indices',\n",
       " 'diag_indices_from',\n",
       " 'diagflat',\n",
       " 'diagonal',\n",
       " 'diff',\n",
       " 'digitize',\n",
       " 'disp',\n",
       " 'divide',\n",
       " 'divmod',\n",
       " 'dot',\n",
       " 'double',\n",
       " 'dsplit',\n",
       " 'dstack',\n",
       " 'dtype',\n",
       " 'e',\n",
       " 'ediff1d',\n",
       " 'einsum',\n",
       " 'einsum_path',\n",
       " 'emath',\n",
       " 'empty',\n",
       " 'empty_like',\n",
       " 'equal',\n",
       " 'errstate',\n",
       " 'euler_gamma',\n",
       " 'exp',\n",
       " 'exp2',\n",
       " 'expand_dims',\n",
       " 'expm1',\n",
       " 'extract',\n",
       " 'eye',\n",
       " 'fabs',\n",
       " 'fastCopyAndTranspose',\n",
       " 'fft',\n",
       " 'fill_diagonal',\n",
       " 'find_common_type',\n",
       " 'finfo',\n",
       " 'fix',\n",
       " 'flatiter',\n",
       " 'flatnonzero',\n",
       " 'flexible',\n",
       " 'flip',\n",
       " 'fliplr',\n",
       " 'flipud',\n",
       " 'float16',\n",
       " 'float32',\n",
       " 'float64',\n",
       " 'float_',\n",
       " 'float_power',\n",
       " 'floating',\n",
       " 'floor',\n",
       " 'floor_divide',\n",
       " 'fmax',\n",
       " 'fmin',\n",
       " 'fmod',\n",
       " 'format_float_positional',\n",
       " 'format_float_scientific',\n",
       " 'format_parser',\n",
       " 'frexp',\n",
       " 'frombuffer',\n",
       " 'fromfile',\n",
       " 'fromfunction',\n",
       " 'fromiter',\n",
       " 'frompyfunc',\n",
       " 'fromregex',\n",
       " 'fromstring',\n",
       " 'full',\n",
       " 'full_like',\n",
       " 'gcd',\n",
       " 'generic',\n",
       " 'genfromtxt',\n",
       " 'geomspace',\n",
       " 'get_array_wrap',\n",
       " 'get_include',\n",
       " 'get_printoptions',\n",
       " 'getbufsize',\n",
       " 'geterr',\n",
       " 'geterrcall',\n",
       " 'geterrobj',\n",
       " 'gradient',\n",
       " 'greater',\n",
       " 'greater_equal',\n",
       " 'half',\n",
       " 'hamming',\n",
       " 'hanning',\n",
       " 'heaviside',\n",
       " 'histogram',\n",
       " 'histogram2d',\n",
       " 'histogram_bin_edges',\n",
       " 'histogramdd',\n",
       " 'hsplit',\n",
       " 'hstack',\n",
       " 'hypot',\n",
       " 'i0',\n",
       " 'identity',\n",
       " 'iinfo',\n",
       " 'imag',\n",
       " 'in1d',\n",
       " 'index_exp',\n",
       " 'indices',\n",
       " 'inexact',\n",
       " 'inf',\n",
       " 'info',\n",
       " 'infty',\n",
       " 'inner',\n",
       " 'insert',\n",
       " 'int0',\n",
       " 'int16',\n",
       " 'int32',\n",
       " 'int64',\n",
       " 'int8',\n",
       " 'int_',\n",
       " 'intc',\n",
       " 'integer',\n",
       " 'interp',\n",
       " 'intersect1d',\n",
       " 'intp',\n",
       " 'invert',\n",
       " 'is_busday',\n",
       " 'isclose',\n",
       " 'iscomplex',\n",
       " 'iscomplexobj',\n",
       " 'isfinite',\n",
       " 'isfortran',\n",
       " 'isin',\n",
       " 'isinf',\n",
       " 'isnan',\n",
       " 'isnat',\n",
       " 'isneginf',\n",
       " 'isposinf',\n",
       " 'isreal',\n",
       " 'isrealobj',\n",
       " 'isscalar',\n",
       " 'issctype',\n",
       " 'issubclass_',\n",
       " 'issubdtype',\n",
       " 'issubsctype',\n",
       " 'iterable',\n",
       " 'ix_',\n",
       " 'kaiser',\n",
       " 'kron',\n",
       " 'lcm',\n",
       " 'ldexp',\n",
       " 'left_shift',\n",
       " 'less',\n",
       " 'less_equal',\n",
       " 'lexsort',\n",
       " 'lib',\n",
       " 'linalg',\n",
       " 'linspace',\n",
       " 'little_endian',\n",
       " 'load',\n",
       " 'loads',\n",
       " 'loadtxt',\n",
       " 'log',\n",
       " 'log10',\n",
       " 'log1p',\n",
       " 'log2',\n",
       " 'logaddexp',\n",
       " 'logaddexp2',\n",
       " 'logical_and',\n",
       " 'logical_not',\n",
       " 'logical_or',\n",
       " 'logical_xor',\n",
       " 'logspace',\n",
       " 'longcomplex',\n",
       " 'longdouble',\n",
       " 'longfloat',\n",
       " 'longlong',\n",
       " 'lookfor',\n",
       " 'ma',\n",
       " 'mafromtxt',\n",
       " 'mask_indices',\n",
       " 'mat',\n",
       " 'math',\n",
       " 'matmul',\n",
       " 'matrix',\n",
       " 'matrixlib',\n",
       " 'max',\n",
       " 'maximum',\n",
       " 'maximum_sctype',\n",
       " 'may_share_memory',\n",
       " 'mean',\n",
       " 'median',\n",
       " 'memmap',\n",
       " 'meshgrid',\n",
       " 'mgrid',\n",
       " 'min',\n",
       " 'min_scalar_type',\n",
       " 'minimum',\n",
       " 'mintypecode',\n",
       " 'mkl',\n",
       " 'mod',\n",
       " 'modf',\n",
       " 'moveaxis',\n",
       " 'msort',\n",
       " 'multiply',\n",
       " 'nan',\n",
       " 'nan_to_num',\n",
       " 'nanargmax',\n",
       " 'nanargmin',\n",
       " 'nancumprod',\n",
       " 'nancumsum',\n",
       " 'nanmax',\n",
       " 'nanmean',\n",
       " 'nanmedian',\n",
       " 'nanmin',\n",
       " 'nanpercentile',\n",
       " 'nanprod',\n",
       " 'nanquantile',\n",
       " 'nanstd',\n",
       " 'nansum',\n",
       " 'nanvar',\n",
       " 'nbytes',\n",
       " 'ndarray',\n",
       " 'ndenumerate',\n",
       " 'ndfromtxt',\n",
       " 'ndim',\n",
       " 'ndindex',\n",
       " 'nditer',\n",
       " 'negative',\n",
       " 'nested_iters',\n",
       " 'newaxis',\n",
       " 'nextafter',\n",
       " 'nonzero',\n",
       " 'not_equal',\n",
       " 'numarray',\n",
       " 'number',\n",
       " 'obj2sctype',\n",
       " 'object0',\n",
       " 'object_',\n",
       " 'ogrid',\n",
       " 'oldnumeric',\n",
       " 'ones',\n",
       " 'ones_like',\n",
       " 'os',\n",
       " 'outer',\n",
       " 'packbits',\n",
       " 'pad',\n",
       " 'partition',\n",
       " 'percentile',\n",
       " 'pi',\n",
       " 'piecewise',\n",
       " 'place',\n",
       " 'poly',\n",
       " 'poly1d',\n",
       " 'polyadd',\n",
       " 'polyder',\n",
       " 'polydiv',\n",
       " 'polyfit',\n",
       " 'polyint',\n",
       " 'polymul',\n",
       " 'polynomial',\n",
       " 'polysub',\n",
       " 'polyval',\n",
       " 'positive',\n",
       " 'power',\n",
       " 'printoptions',\n",
       " 'prod',\n",
       " 'product',\n",
       " 'promote_types',\n",
       " 'ptp',\n",
       " 'put',\n",
       " 'put_along_axis',\n",
       " 'putmask',\n",
       " 'quantile',\n",
       " 'r_',\n",
       " 'rad2deg',\n",
       " 'radians',\n",
       " 'random',\n",
       " 'ravel',\n",
       " 'ravel_multi_index',\n",
       " 'real',\n",
       " 'real_if_close',\n",
       " 'rec',\n",
       " 'recarray',\n",
       " 'recfromcsv',\n",
       " 'recfromtxt',\n",
       " 'reciprocal',\n",
       " 'record',\n",
       " 'remainder',\n",
       " 'repeat',\n",
       " 'require',\n",
       " 'reshape',\n",
       " 'resize',\n",
       " 'result_type',\n",
       " 'right_shift',\n",
       " 'rint',\n",
       " 'roll',\n",
       " 'rollaxis',\n",
       " 'roots',\n",
       " 'rot90',\n",
       " 'round',\n",
       " 'round_',\n",
       " 'row_stack',\n",
       " 's_',\n",
       " 'safe_eval',\n",
       " 'save',\n",
       " 'savetxt',\n",
       " 'savez',\n",
       " 'savez_compressed',\n",
       " 'sctype2char',\n",
       " 'sctypeDict',\n",
       " 'sctypes',\n",
       " 'searchsorted',\n",
       " 'select',\n",
       " 'set_numeric_ops',\n",
       " 'set_printoptions',\n",
       " 'set_string_function',\n",
       " 'setbufsize',\n",
       " 'setdiff1d',\n",
       " 'seterr',\n",
       " 'seterrcall',\n",
       " 'seterrobj',\n",
       " 'setxor1d',\n",
       " 'shape',\n",
       " 'shares_memory',\n",
       " 'short',\n",
       " 'show_config',\n",
       " 'sign',\n",
       " 'signbit',\n",
       " 'signedinteger',\n",
       " 'sin',\n",
       " 'sinc',\n",
       " 'single',\n",
       " 'singlecomplex',\n",
       " 'sinh',\n",
       " 'size',\n",
       " 'sometrue',\n",
       " 'sort',\n",
       " 'sort_complex',\n",
       " 'source',\n",
       " 'spacing',\n",
       " 'split',\n",
       " 'sqrt',\n",
       " 'square',\n",
       " 'squeeze',\n",
       " 'stack',\n",
       " 'std',\n",
       " 'str0',\n",
       " 'str_',\n",
       " 'string_',\n",
       " 'subtract',\n",
       " 'sum',\n",
       " 'swapaxes',\n",
       " 'sys',\n",
       " 'take',\n",
       " 'take_along_axis',\n",
       " 'tan',\n",
       " 'tanh',\n",
       " 'tensordot',\n",
       " 'test',\n",
       " 'testing',\n",
       " 'tile',\n",
       " 'timedelta64',\n",
       " 'trace',\n",
       " 'tracemalloc_domain',\n",
       " 'transpose',\n",
       " 'trapz',\n",
       " 'tri',\n",
       " 'tril',\n",
       " 'tril_indices',\n",
       " 'tril_indices_from',\n",
       " 'trim_zeros',\n",
       " 'triu',\n",
       " 'triu_indices',\n",
       " 'triu_indices_from',\n",
       " 'true_divide',\n",
       " 'trunc',\n",
       " 'typeDict',\n",
       " 'typecodes',\n",
       " 'typename',\n",
       " 'ubyte',\n",
       " 'ufunc',\n",
       " 'uint',\n",
       " 'uint0',\n",
       " 'uint16',\n",
       " 'uint32',\n",
       " 'uint64',\n",
       " 'uint8',\n",
       " 'uintc',\n",
       " 'uintp',\n",
       " 'ulonglong',\n",
       " 'unicode_',\n",
       " 'union1d',\n",
       " 'unique',\n",
       " 'unpackbits',\n",
       " 'unravel_index',\n",
       " 'unsignedinteger',\n",
       " 'unwrap',\n",
       " 'use_hugepage',\n",
       " 'ushort',\n",
       " 'vander',\n",
       " 'var',\n",
       " 'vdot',\n",
       " 'vectorize',\n",
       " 'version',\n",
       " 'void',\n",
       " 'void0',\n",
       " 'vsplit',\n",
       " 'vstack',\n",
       " 'warnings',\n",
       " 'where',\n",
       " 'who',\n",
       " 'zeros',\n",
       " 'zeros_like']"
      ]
     },
     "execution_count": 144,
     "metadata": {},
     "output_type": "execute_result"
    }
   ],
   "source": [
    "dir(np)"
   ]
  },
  {
   "cell_type": "code",
   "execution_count": 145,
   "id": "b3031728",
   "metadata": {},
   "outputs": [
    {
     "name": "stdout",
     "output_type": "stream",
     "text": [
      "Help on ufunc object:\n",
      "\n",
      "sinh = class ufunc(builtins.object)\n",
      " |  Functions that operate element by element on whole arrays.\n",
      " |  \n",
      " |  To see the documentation for a specific ufunc, use `info`.  For\n",
      " |  example, ``np.info(np.sin)``.  Because ufuncs are written in C\n",
      " |  (for speed) and linked into Python with NumPy's ufunc facility,\n",
      " |  Python's help() function finds this page whenever help() is called\n",
      " |  on a ufunc.\n",
      " |  \n",
      " |  A detailed explanation of ufuncs can be found in the docs for :ref:`ufuncs`.\n",
      " |  \n",
      " |  **Calling ufuncs:** ``op(*x[, out], where=True, **kwargs)``\n",
      " |  \n",
      " |  Apply `op` to the arguments `*x` elementwise, broadcasting the arguments.\n",
      " |  \n",
      " |  The broadcasting rules are:\n",
      " |  \n",
      " |  * Dimensions of length 1 may be prepended to either array.\n",
      " |  * Arrays may be repeated along dimensions of length 1.\n",
      " |  \n",
      " |  Parameters\n",
      " |  ----------\n",
      " |  *x : array_like\n",
      " |      Input arrays.\n",
      " |  out : ndarray, None, or tuple of ndarray and None, optional\n",
      " |      Alternate array object(s) in which to put the result; if provided, it\n",
      " |      must have a shape that the inputs broadcast to. A tuple of arrays\n",
      " |      (possible only as a keyword argument) must have length equal to the\n",
      " |      number of outputs; use None for uninitialized outputs to be\n",
      " |      allocated by the ufunc.\n",
      " |  where : array_like, optional\n",
      " |      This condition is broadcast over the input. At locations where the\n",
      " |      condition is True, the `out` array will be set to the ufunc result.\n",
      " |      Elsewhere, the `out` array will retain its original value.\n",
      " |      Note that if an uninitialized `out` array is created via the default\n",
      " |      ``out=None``, locations within it where the condition is False will\n",
      " |      remain uninitialized.\n",
      " |  **kwargs\n",
      " |      For other keyword-only arguments, see the :ref:`ufunc docs <ufuncs.kwargs>`.\n",
      " |  \n",
      " |  Returns\n",
      " |  -------\n",
      " |  r : ndarray or tuple of ndarray\n",
      " |      `r` will have the shape that the arrays in `x` broadcast to; if `out` is\n",
      " |      provided, it will be returned. If not, `r` will be allocated and\n",
      " |      may contain uninitialized values. If the function has more than one\n",
      " |      output, then the result will be a tuple of arrays.\n",
      " |  \n",
      " |  Methods defined here:\n",
      " |  \n",
      " |  __call__(self, /, *args, **kwargs)\n",
      " |      Call self as a function.\n",
      " |  \n",
      " |  __repr__(self, /)\n",
      " |      Return repr(self).\n",
      " |  \n",
      " |  __str__(self, /)\n",
      " |      Return str(self).\n",
      " |  \n",
      " |  accumulate(...)\n",
      " |      accumulate(array, axis=0, dtype=None, out=None)\n",
      " |      \n",
      " |      Accumulate the result of applying the operator to all elements.\n",
      " |      \n",
      " |      For a one-dimensional array, accumulate produces results equivalent to::\n",
      " |      \n",
      " |        r = np.empty(len(A))\n",
      " |        t = op.identity        # op = the ufunc being applied to A's  elements\n",
      " |        for i in range(len(A)):\n",
      " |            t = op(t, A[i])\n",
      " |            r[i] = t\n",
      " |        return r\n",
      " |      \n",
      " |      For example, add.accumulate() is equivalent to np.cumsum().\n",
      " |      \n",
      " |      For a multi-dimensional array, accumulate is applied along only one\n",
      " |      axis (axis zero by default; see Examples below) so repeated use is\n",
      " |      necessary if one wants to accumulate over multiple axes.\n",
      " |      \n",
      " |      Parameters\n",
      " |      ----------\n",
      " |      array : array_like\n",
      " |          The array to act on.\n",
      " |      axis : int, optional\n",
      " |          The axis along which to apply the accumulation; default is zero.\n",
      " |      dtype : data-type code, optional\n",
      " |          The data-type used to represent the intermediate results. Defaults\n",
      " |          to the data-type of the output array if such is provided, or the\n",
      " |          the data-type of the input array if no output array is provided.\n",
      " |      out : ndarray, None, or tuple of ndarray and None, optional\n",
      " |          A location into which the result is stored. If not provided or None,\n",
      " |          a freshly-allocated array is returned. For consistency with\n",
      " |          ``ufunc.__call__``, if given as a keyword, this may be wrapped in a\n",
      " |          1-element tuple.\n",
      " |      \n",
      " |          .. versionchanged:: 1.13.0\n",
      " |             Tuples are allowed for keyword argument.\n",
      " |      \n",
      " |      Returns\n",
      " |      -------\n",
      " |      r : ndarray\n",
      " |          The accumulated values. If `out` was supplied, `r` is a reference to\n",
      " |          `out`.\n",
      " |      \n",
      " |      Examples\n",
      " |      --------\n",
      " |      1-D array examples:\n",
      " |      \n",
      " |      >>> np.add.accumulate([2, 3, 5])\n",
      " |      array([ 2,  5, 10])\n",
      " |      >>> np.multiply.accumulate([2, 3, 5])\n",
      " |      array([ 2,  6, 30])\n",
      " |      \n",
      " |      2-D array examples:\n",
      " |      \n",
      " |      >>> I = np.eye(2)\n",
      " |      >>> I\n",
      " |      array([[1.,  0.],\n",
      " |             [0.,  1.]])\n",
      " |      \n",
      " |      Accumulate along axis 0 (rows), down columns:\n",
      " |      \n",
      " |      >>> np.add.accumulate(I, 0)\n",
      " |      array([[1.,  0.],\n",
      " |             [1.,  1.]])\n",
      " |      >>> np.add.accumulate(I) # no axis specified = axis zero\n",
      " |      array([[1.,  0.],\n",
      " |             [1.,  1.]])\n",
      " |      \n",
      " |      Accumulate along axis 1 (columns), through rows:\n",
      " |      \n",
      " |      >>> np.add.accumulate(I, 1)\n",
      " |      array([[1.,  1.],\n",
      " |             [0.,  1.]])\n",
      " |  \n",
      " |  at(...)\n",
      " |      at(a, indices, b=None, /)\n",
      " |      \n",
      " |      Performs unbuffered in place operation on operand 'a' for elements\n",
      " |      specified by 'indices'. For addition ufunc, this method is equivalent to\n",
      " |      ``a[indices] += b``, except that results are accumulated for elements that\n",
      " |      are indexed more than once. For example, ``a[[0,0]] += 1`` will only\n",
      " |      increment the first element once because of buffering, whereas\n",
      " |      ``add.at(a, [0,0], 1)`` will increment the first element twice.\n",
      " |      \n",
      " |      .. versionadded:: 1.8.0\n",
      " |      \n",
      " |      Parameters\n",
      " |      ----------\n",
      " |      a : array_like\n",
      " |          The array to perform in place operation on.\n",
      " |      indices : array_like or tuple\n",
      " |          Array like index object or slice object for indexing into first\n",
      " |          operand. If first operand has multiple dimensions, indices can be a\n",
      " |          tuple of array like index objects or slice objects.\n",
      " |      b : array_like\n",
      " |          Second operand for ufuncs requiring two operands. Operand must be\n",
      " |          broadcastable over first operand after indexing or slicing.\n",
      " |      \n",
      " |      Examples\n",
      " |      --------\n",
      " |      Set items 0 and 1 to their negative values:\n",
      " |      \n",
      " |      >>> a = np.array([1, 2, 3, 4])\n",
      " |      >>> np.negative.at(a, [0, 1])\n",
      " |      >>> a\n",
      " |      array([-1, -2,  3,  4])\n",
      " |      \n",
      " |      Increment items 0 and 1, and increment item 2 twice:\n",
      " |      \n",
      " |      >>> a = np.array([1, 2, 3, 4])\n",
      " |      >>> np.add.at(a, [0, 1, 2, 2], 1)\n",
      " |      >>> a\n",
      " |      array([2, 3, 5, 4])\n",
      " |      \n",
      " |      Add items 0 and 1 in first array to second array,\n",
      " |      and store results in first array:\n",
      " |      \n",
      " |      >>> a = np.array([1, 2, 3, 4])\n",
      " |      >>> b = np.array([1, 2])\n",
      " |      >>> np.add.at(a, [0, 1], b)\n",
      " |      >>> a\n",
      " |      array([2, 4, 3, 4])\n",
      " |  \n",
      " |  outer(...)\n",
      " |      outer(A, B, /, **kwargs)\n",
      " |      \n",
      " |      Apply the ufunc `op` to all pairs (a, b) with a in `A` and b in `B`.\n",
      " |      \n",
      " |      Let ``M = A.ndim``, ``N = B.ndim``. Then the result, `C`, of\n",
      " |      ``op.outer(A, B)`` is an array of dimension M + N such that:\n",
      " |      \n",
      " |      .. math:: C[i_0, ..., i_{M-1}, j_0, ..., j_{N-1}] =\n",
      " |         op(A[i_0, ..., i_{M-1}], B[j_0, ..., j_{N-1}])\n",
      " |      \n",
      " |      For `A` and `B` one-dimensional, this is equivalent to::\n",
      " |      \n",
      " |        r = empty(len(A),len(B))\n",
      " |        for i in range(len(A)):\n",
      " |            for j in range(len(B)):\n",
      " |                r[i,j] = op(A[i], B[j]) # op = ufunc in question\n",
      " |      \n",
      " |      Parameters\n",
      " |      ----------\n",
      " |      A : array_like\n",
      " |          First array\n",
      " |      B : array_like\n",
      " |          Second array\n",
      " |      kwargs : any\n",
      " |          Arguments to pass on to the ufunc. Typically `dtype` or `out`.\n",
      " |      \n",
      " |      Returns\n",
      " |      -------\n",
      " |      r : ndarray\n",
      " |          Output array\n",
      " |      \n",
      " |      See Also\n",
      " |      --------\n",
      " |      numpy.outer : A less powerful version of ``np.multiply.outer``\n",
      " |                    that `ravel`\\ s all inputs to 1D. This exists\n",
      " |                    primarily for compatibility with old code.\n",
      " |      \n",
      " |      tensordot : ``np.tensordot(a, b, axes=((), ()))`` and\n",
      " |                  ``np.multiply.outer(a, b)`` behave same for all\n",
      " |                  dimensions of a and b.\n",
      " |      \n",
      " |      Examples\n",
      " |      --------\n",
      " |      >>> np.multiply.outer([1, 2, 3], [4, 5, 6])\n",
      " |      array([[ 4,  5,  6],\n",
      " |             [ 8, 10, 12],\n",
      " |             [12, 15, 18]])\n",
      " |      \n",
      " |      A multi-dimensional example:\n",
      " |      \n",
      " |      >>> A = np.array([[1, 2, 3], [4, 5, 6]])\n",
      " |      >>> A.shape\n",
      " |      (2, 3)\n",
      " |      >>> B = np.array([[1, 2, 3, 4]])\n",
      " |      >>> B.shape\n",
      " |      (1, 4)\n",
      " |      >>> C = np.multiply.outer(A, B)\n",
      " |      >>> C.shape; C\n",
      " |      (2, 3, 1, 4)\n",
      " |      array([[[[ 1,  2,  3,  4]],\n",
      " |              [[ 2,  4,  6,  8]],\n",
      " |              [[ 3,  6,  9, 12]]],\n",
      " |             [[[ 4,  8, 12, 16]],\n",
      " |              [[ 5, 10, 15, 20]],\n",
      " |              [[ 6, 12, 18, 24]]]])\n",
      " |  \n",
      " |  reduce(...)\n",
      " |      reduce(array, axis=0, dtype=None, out=None, keepdims=False, initial=<no value>, where=True)\n",
      " |      \n",
      " |      Reduces `array`'s dimension by one, by applying ufunc along one axis.\n",
      " |      \n",
      " |      Let :math:`array.shape = (N_0, ..., N_i, ..., N_{M-1})`.  Then\n",
      " |      :math:`ufunc.reduce(array, axis=i)[k_0, ..,k_{i-1}, k_{i+1}, .., k_{M-1}]` =\n",
      " |      the result of iterating `j` over :math:`range(N_i)`, cumulatively applying\n",
      " |      ufunc to each :math:`array[k_0, ..,k_{i-1}, j, k_{i+1}, .., k_{M-1}]`.\n",
      " |      For a one-dimensional array, reduce produces results equivalent to:\n",
      " |      ::\n",
      " |      \n",
      " |       r = op.identity # op = ufunc\n",
      " |       for i in range(len(A)):\n",
      " |         r = op(r, A[i])\n",
      " |       return r\n",
      " |      \n",
      " |      For example, add.reduce() is equivalent to sum().\n",
      " |      \n",
      " |      Parameters\n",
      " |      ----------\n",
      " |      array : array_like\n",
      " |          The array to act on.\n",
      " |      axis : None or int or tuple of ints, optional\n",
      " |          Axis or axes along which a reduction is performed.\n",
      " |          The default (`axis` = 0) is perform a reduction over the first\n",
      " |          dimension of the input array. `axis` may be negative, in\n",
      " |          which case it counts from the last to the first axis.\n",
      " |      \n",
      " |          .. versionadded:: 1.7.0\n",
      " |      \n",
      " |          If this is None, a reduction is performed over all the axes.\n",
      " |          If this is a tuple of ints, a reduction is performed on multiple\n",
      " |          axes, instead of a single axis or all the axes as before.\n",
      " |      \n",
      " |          For operations which are either not commutative or not associative,\n",
      " |          doing a reduction over multiple axes is not well-defined. The\n",
      " |          ufuncs do not currently raise an exception in this case, but will\n",
      " |          likely do so in the future.\n",
      " |      dtype : data-type code, optional\n",
      " |          The type used to represent the intermediate results. Defaults\n",
      " |          to the data-type of the output array if this is provided, or\n",
      " |          the data-type of the input array if no output array is provided.\n",
      " |      out : ndarray, None, or tuple of ndarray and None, optional\n",
      " |          A location into which the result is stored. If not provided or None,\n",
      " |          a freshly-allocated array is returned. For consistency with\n",
      " |          ``ufunc.__call__``, if given as a keyword, this may be wrapped in a\n",
      " |          1-element tuple.\n",
      " |      \n",
      " |          .. versionchanged:: 1.13.0\n",
      " |             Tuples are allowed for keyword argument.\n",
      " |      keepdims : bool, optional\n",
      " |          If this is set to True, the axes which are reduced are left\n",
      " |          in the result as dimensions with size one. With this option,\n",
      " |          the result will broadcast correctly against the original `array`.\n",
      " |      \n",
      " |          .. versionadded:: 1.7.0\n",
      " |      initial : scalar, optional\n",
      " |          The value with which to start the reduction.\n",
      " |          If the ufunc has no identity or the dtype is object, this defaults\n",
      " |          to None - otherwise it defaults to ufunc.identity.\n",
      " |          If ``None`` is given, the first element of the reduction is used,\n",
      " |          and an error is thrown if the reduction is empty.\n",
      " |      \n",
      " |          .. versionadded:: 1.15.0\n",
      " |      \n",
      " |      where : array_like of bool, optional\n",
      " |          A boolean array which is broadcasted to match the dimensions\n",
      " |          of `array`, and selects elements to include in the reduction. Note\n",
      " |          that for ufuncs like ``minimum`` that do not have an identity\n",
      " |          defined, one has to pass in also ``initial``.\n",
      " |      \n",
      " |          .. versionadded:: 1.17.0\n",
      " |      \n",
      " |      Returns\n",
      " |      -------\n",
      " |      r : ndarray\n",
      " |          The reduced array. If `out` was supplied, `r` is a reference to it.\n",
      " |      \n",
      " |      Examples\n",
      " |      --------\n",
      " |      >>> np.multiply.reduce([2,3,5])\n",
      " |      30\n",
      " |      \n",
      " |      A multi-dimensional array example:\n",
      " |      \n",
      " |      >>> X = np.arange(8).reshape((2,2,2))\n",
      " |      >>> X\n",
      " |      array([[[0, 1],\n",
      " |              [2, 3]],\n",
      " |             [[4, 5],\n",
      " |              [6, 7]]])\n",
      " |      >>> np.add.reduce(X, 0)\n",
      " |      array([[ 4,  6],\n",
      " |             [ 8, 10]])\n",
      " |      >>> np.add.reduce(X) # confirm: default axis value is 0\n",
      " |      array([[ 4,  6],\n",
      " |             [ 8, 10]])\n",
      " |      >>> np.add.reduce(X, 1)\n",
      " |      array([[ 2,  4],\n",
      " |             [10, 12]])\n",
      " |      >>> np.add.reduce(X, 2)\n",
      " |      array([[ 1,  5],\n",
      " |             [ 9, 13]])\n",
      " |      \n",
      " |      You can use the ``initial`` keyword argument to initialize the reduction\n",
      " |      with a different value, and ``where`` to select specific elements to include:\n",
      " |      \n",
      " |      >>> np.add.reduce([10], initial=5)\n",
      " |      15\n",
      " |      >>> np.add.reduce(np.ones((2, 2, 2)), axis=(0, 2), initial=10)\n",
      " |      array([14., 14.])\n",
      " |      >>> a = np.array([10., np.nan, 10])\n",
      " |      >>> np.add.reduce(a, where=~np.isnan(a))\n",
      " |      20.0\n",
      " |      \n",
      " |      Allows reductions of empty arrays where they would normally fail, i.e.\n",
      " |      for ufuncs without an identity.\n",
      " |      \n",
      " |      >>> np.minimum.reduce([], initial=np.inf)\n",
      " |      inf\n",
      " |      >>> np.minimum.reduce([[1., 2.], [3., 4.]], initial=10., where=[True, False])\n",
      " |      array([ 1., 10.])\n",
      " |      >>> np.minimum.reduce([])\n",
      " |      Traceback (most recent call last):\n",
      " |          ...\n",
      " |      ValueError: zero-size array to reduction operation minimum which has no identity\n",
      " |  \n",
      " |  reduceat(...)\n",
      " |      reduceat(array, indices, axis=0, dtype=None, out=None)\n",
      " |      \n",
      " |      Performs a (local) reduce with specified slices over a single axis.\n",
      " |      \n",
      " |      For i in ``range(len(indices))``, `reduceat` computes\n",
      " |      ``ufunc.reduce(array[indices[i]:indices[i+1]])``, which becomes the i-th\n",
      " |      generalized \"row\" parallel to `axis` in the final result (i.e., in a\n",
      " |      2-D array, for example, if `axis = 0`, it becomes the i-th row, but if\n",
      " |      `axis = 1`, it becomes the i-th column).  There are three exceptions to this:\n",
      " |      \n",
      " |      * when ``i = len(indices) - 1`` (so for the last index),\n",
      " |        ``indices[i+1] = array.shape[axis]``.\n",
      " |      * if ``indices[i] >= indices[i + 1]``, the i-th generalized \"row\" is\n",
      " |        simply ``array[indices[i]]``.\n",
      " |      * if ``indices[i] >= len(array)`` or ``indices[i] < 0``, an error is raised.\n",
      " |      \n",
      " |      The shape of the output depends on the size of `indices`, and may be\n",
      " |      larger than `array` (this happens if ``len(indices) > array.shape[axis]``).\n",
      " |      \n",
      " |      Parameters\n",
      " |      ----------\n",
      " |      array : array_like\n",
      " |          The array to act on.\n",
      " |      indices : array_like\n",
      " |          Paired indices, comma separated (not colon), specifying slices to\n",
      " |          reduce.\n",
      " |      axis : int, optional\n",
      " |          The axis along which to apply the reduceat.\n",
      " |      dtype : data-type code, optional\n",
      " |          The type used to represent the intermediate results. Defaults\n",
      " |          to the data type of the output array if this is provided, or\n",
      " |          the data type of the input array if no output array is provided.\n",
      " |      out : ndarray, None, or tuple of ndarray and None, optional\n",
      " |          A location into which the result is stored. If not provided or None,\n",
      " |          a freshly-allocated array is returned. For consistency with\n",
      " |          ``ufunc.__call__``, if given as a keyword, this may be wrapped in a\n",
      " |          1-element tuple.\n",
      " |      \n",
      " |          .. versionchanged:: 1.13.0\n",
      " |             Tuples are allowed for keyword argument.\n",
      " |      \n",
      " |      Returns\n",
      " |      -------\n",
      " |      r : ndarray\n",
      " |          The reduced values. If `out` was supplied, `r` is a reference to\n",
      " |          `out`.\n",
      " |      \n",
      " |      Notes\n",
      " |      -----\n",
      " |      A descriptive example:\n",
      " |      \n",
      " |      If `array` is 1-D, the function `ufunc.accumulate(array)` is the same as\n",
      " |      ``ufunc.reduceat(array, indices)[::2]`` where `indices` is\n",
      " |      ``range(len(array) - 1)`` with a zero placed\n",
      " |      in every other element:\n",
      " |      ``indices = zeros(2 * len(array) - 1)``,\n",
      " |      ``indices[1::2] = range(1, len(array))``.\n",
      " |      \n",
      " |      Don't be fooled by this attribute's name: `reduceat(array)` is not\n",
      " |      necessarily smaller than `array`.\n",
      " |      \n",
      " |      Examples\n",
      " |      --------\n",
      " |      To take the running sum of four successive values:\n",
      " |      \n",
      " |      >>> np.add.reduceat(np.arange(8),[0,4, 1,5, 2,6, 3,7])[::2]\n",
      " |      array([ 6, 10, 14, 18])\n",
      " |      \n",
      " |      A 2-D example:\n",
      " |      \n",
      " |      >>> x = np.linspace(0, 15, 16).reshape(4,4)\n",
      " |      >>> x\n",
      " |      array([[ 0.,   1.,   2.,   3.],\n",
      " |             [ 4.,   5.,   6.,   7.],\n",
      " |             [ 8.,   9.,  10.,  11.],\n",
      " |             [12.,  13.,  14.,  15.]])\n",
      " |      \n",
      " |      ::\n",
      " |      \n",
      " |       # reduce such that the result has the following five rows:\n",
      " |       # [row1 + row2 + row3]\n",
      " |       # [row4]\n",
      " |       # [row2]\n",
      " |       # [row3]\n",
      " |       # [row1 + row2 + row3 + row4]\n",
      " |      \n",
      " |      >>> np.add.reduceat(x, [0, 3, 1, 2, 0])\n",
      " |      array([[12.,  15.,  18.,  21.],\n",
      " |             [12.,  13.,  14.,  15.],\n",
      " |             [ 4.,   5.,   6.,   7.],\n",
      " |             [ 8.,   9.,  10.,  11.],\n",
      " |             [24.,  28.,  32.,  36.]])\n",
      " |      \n",
      " |      ::\n",
      " |      \n",
      " |       # reduce such that result has the following two columns:\n",
      " |       # [col1 * col2 * col3, col4]\n",
      " |      \n",
      " |      >>> np.multiply.reduceat(x, [0, 3], 1)\n",
      " |      array([[   0.,     3.],\n",
      " |             [ 120.,     7.],\n",
      " |             [ 720.,    11.],\n",
      " |             [2184.,    15.]])\n",
      " |  \n",
      " |  ----------------------------------------------------------------------\n",
      " |  Data descriptors defined here:\n",
      " |  \n",
      " |  identity\n",
      " |      The identity value.\n",
      " |      \n",
      " |      Data attribute containing the identity element for the ufunc, if it has one.\n",
      " |      If it does not, the attribute value is None.\n",
      " |      \n",
      " |      Examples\n",
      " |      --------\n",
      " |      >>> np.add.identity\n",
      " |      0\n",
      " |      >>> np.multiply.identity\n",
      " |      1\n",
      " |      >>> np.power.identity\n",
      " |      1\n",
      " |      >>> print(np.exp.identity)\n",
      " |      None\n",
      " |  \n",
      " |  nargs\n",
      " |      The number of arguments.\n",
      " |      \n",
      " |      Data attribute containing the number of arguments the ufunc takes, including\n",
      " |      optional ones.\n",
      " |      \n",
      " |      Notes\n",
      " |      -----\n",
      " |      Typically this value will be one more than what you might expect because all\n",
      " |      ufuncs take  the optional \"out\" argument.\n",
      " |      \n",
      " |      Examples\n",
      " |      --------\n",
      " |      >>> np.add.nargs\n",
      " |      3\n",
      " |      >>> np.multiply.nargs\n",
      " |      3\n",
      " |      >>> np.power.nargs\n",
      " |      3\n",
      " |      >>> np.exp.nargs\n",
      " |      2\n",
      " |  \n",
      " |  nin\n",
      " |      The number of inputs.\n",
      " |      \n",
      " |      Data attribute containing the number of arguments the ufunc treats as input.\n",
      " |      \n",
      " |      Examples\n",
      " |      --------\n",
      " |      >>> np.add.nin\n",
      " |      2\n",
      " |      >>> np.multiply.nin\n",
      " |      2\n",
      " |      >>> np.power.nin\n",
      " |      2\n",
      " |      >>> np.exp.nin\n",
      " |      1\n",
      " |  \n",
      " |  nout\n",
      " |      The number of outputs.\n",
      " |      \n",
      " |      Data attribute containing the number of arguments the ufunc treats as output.\n",
      " |      \n",
      " |      Notes\n",
      " |      -----\n",
      " |      Since all ufuncs can take output arguments, this will always be (at least) 1.\n",
      " |      \n",
      " |      Examples\n",
      " |      --------\n",
      " |      >>> np.add.nout\n",
      " |      1\n",
      " |      >>> np.multiply.nout\n",
      " |      1\n",
      " |      >>> np.power.nout\n",
      " |      1\n",
      " |      >>> np.exp.nout\n",
      " |      1\n",
      " |  \n",
      " |  ntypes\n",
      " |      The number of types.\n",
      " |      \n",
      " |      The number of numerical NumPy types - of which there are 18 total - on which\n",
      " |      the ufunc can operate.\n",
      " |      \n",
      " |      See Also\n",
      " |      --------\n",
      " |      numpy.ufunc.types\n",
      " |      \n",
      " |      Examples\n",
      " |      --------\n",
      " |      >>> np.add.ntypes\n",
      " |      18\n",
      " |      >>> np.multiply.ntypes\n",
      " |      18\n",
      " |      >>> np.power.ntypes\n",
      " |      17\n",
      " |      >>> np.exp.ntypes\n",
      " |      7\n",
      " |      >>> np.remainder.ntypes\n",
      " |      14\n",
      " |  \n",
      " |  signature\n",
      " |      Definition of the core elements a generalized ufunc operates on.\n",
      " |      \n",
      " |      The signature determines how the dimensions of each input/output array\n",
      " |      are split into core and loop dimensions:\n",
      " |      \n",
      " |      1. Each dimension in the signature is matched to a dimension of the\n",
      " |         corresponding passed-in array, starting from the end of the shape tuple.\n",
      " |      2. Core dimensions assigned to the same label in the signature must have\n",
      " |         exactly matching sizes, no broadcasting is performed.\n",
      " |      3. The core dimensions are removed from all inputs and the remaining\n",
      " |         dimensions are broadcast together, defining the loop dimensions.\n",
      " |      \n",
      " |      Notes\n",
      " |      -----\n",
      " |      Generalized ufuncs are used internally in many linalg functions, and in\n",
      " |      the testing suite; the examples below are taken from these.\n",
      " |      For ufuncs that operate on scalars, the signature is None, which is\n",
      " |      equivalent to '()' for every argument.\n",
      " |      \n",
      " |      Examples\n",
      " |      --------\n",
      " |      >>> np.core.umath_tests.matrix_multiply.signature\n",
      " |      '(m,n),(n,p)->(m,p)'\n",
      " |      >>> np.linalg._umath_linalg.det.signature\n",
      " |      '(m,m)->()'\n",
      " |      >>> np.add.signature is None\n",
      " |      True  # equivalent to '(),()->()'\n",
      " |  \n",
      " |  types\n",
      " |      Returns a list with types grouped input->output.\n",
      " |      \n",
      " |      Data attribute listing the data-type \"Domain-Range\" groupings the ufunc can\n",
      " |      deliver. The data-types are given using the character codes.\n",
      " |      \n",
      " |      See Also\n",
      " |      --------\n",
      " |      numpy.ufunc.ntypes\n",
      " |      \n",
      " |      Examples\n",
      " |      --------\n",
      " |      >>> np.add.types\n",
      " |      ['??->?', 'bb->b', 'BB->B', 'hh->h', 'HH->H', 'ii->i', 'II->I', 'll->l',\n",
      " |      'LL->L', 'qq->q', 'QQ->Q', 'ff->f', 'dd->d', 'gg->g', 'FF->F', 'DD->D',\n",
      " |      'GG->G', 'OO->O']\n",
      " |      \n",
      " |      >>> np.multiply.types\n",
      " |      ['??->?', 'bb->b', 'BB->B', 'hh->h', 'HH->H', 'ii->i', 'II->I', 'll->l',\n",
      " |      'LL->L', 'qq->q', 'QQ->Q', 'ff->f', 'dd->d', 'gg->g', 'FF->F', 'DD->D',\n",
      " |      'GG->G', 'OO->O']\n",
      " |      \n",
      " |      >>> np.power.types\n",
      " |      ['bb->b', 'BB->B', 'hh->h', 'HH->H', 'ii->i', 'II->I', 'll->l', 'LL->L',\n",
      " |      'qq->q', 'QQ->Q', 'ff->f', 'dd->d', 'gg->g', 'FF->F', 'DD->D', 'GG->G',\n",
      " |      'OO->O']\n",
      " |      \n",
      " |      >>> np.exp.types\n",
      " |      ['f->f', 'd->d', 'g->g', 'F->F', 'D->D', 'G->G', 'O->O']\n",
      " |      \n",
      " |      >>> np.remainder.types\n",
      " |      ['bb->b', 'BB->B', 'hh->h', 'HH->H', 'ii->i', 'II->I', 'll->l', 'LL->L',\n",
      " |      'qq->q', 'QQ->Q', 'ff->f', 'dd->d', 'gg->g', 'OO->O']\n",
      "\n"
     ]
    }
   ],
   "source": [
    "help(np.sinh)"
   ]
  },
  {
   "cell_type": "code",
   "execution_count": 155,
   "id": "113aaf05",
   "metadata": {},
   "outputs": [],
   "source": [
    "a = np.array([12,13,4,6])\n",
    "b = a.view()"
   ]
  },
  {
   "cell_type": "code",
   "execution_count": 156,
   "id": "f12aba06",
   "metadata": {},
   "outputs": [],
   "source": [
    "b[0] = 18"
   ]
  },
  {
   "cell_type": "code",
   "execution_count": 157,
   "id": "b97471d4",
   "metadata": {},
   "outputs": [
    {
     "data": {
      "text/plain": [
       "array([18, 13,  4,  6])"
      ]
     },
     "execution_count": 157,
     "metadata": {},
     "output_type": "execute_result"
    }
   ],
   "source": [
    "a"
   ]
  },
  {
   "cell_type": "code",
   "execution_count": 158,
   "id": "3ea3360c",
   "metadata": {},
   "outputs": [],
   "source": [
    "b = a.copy()"
   ]
  },
  {
   "cell_type": "code",
   "execution_count": 159,
   "id": "c74b15ac",
   "metadata": {},
   "outputs": [],
   "source": [
    "b[2] = 10"
   ]
  },
  {
   "cell_type": "code",
   "execution_count": 160,
   "id": "97dfee3c",
   "metadata": {},
   "outputs": [
    {
     "data": {
      "text/plain": [
       "array([18, 13,  4,  6])"
      ]
     },
     "execution_count": 160,
     "metadata": {},
     "output_type": "execute_result"
    }
   ],
   "source": [
    "a"
   ]
  },
  {
   "cell_type": "code",
   "execution_count": null,
   "id": "ef6603c1",
   "metadata": {},
   "outputs": [],
   "source": []
  },
  {
   "cell_type": "markdown",
   "id": "a0db6f6d",
   "metadata": {},
   "source": [
    "#### Splitting NumPy Arrays\n",
    "\n",
    "- Splitting is reverse operation of Joining, that is breaks one array into multiple arrays\n",
    "- We use array_split() for splitting arrays, we pass it the array we want to split and the number of splits"
   ]
  },
  {
   "cell_type": "code",
   "execution_count": 161,
   "id": "6c9ab635",
   "metadata": {},
   "outputs": [
    {
     "data": {
      "text/plain": [
       "array([[10, 11, 12],\n",
       "       [13, 14, 15],\n",
       "       [16, 17, 18],\n",
       "       [19, 20, 21],\n",
       "       [22, 23, 24],\n",
       "       [25, 26, 27],\n",
       "       [28, 29, 30],\n",
       "       [31, 32, 33]])"
      ]
     },
     "execution_count": 161,
     "metadata": {},
     "output_type": "execute_result"
    }
   ],
   "source": [
    "a = np.arange(10,34,1).reshape(8,3)\n",
    "a"
   ]
  },
  {
   "cell_type": "code",
   "execution_count": 166,
   "id": "94e8dee2",
   "metadata": {},
   "outputs": [
    {
     "data": {
      "text/plain": [
       "[array([[10, 11, 12],\n",
       "        [13, 14, 15]]),\n",
       " array([[16, 17, 18],\n",
       "        [19, 20, 21]]),\n",
       " array([[22, 23, 24],\n",
       "        [25, 26, 27]]),\n",
       " array([[28, 29, 30],\n",
       "        [31, 32, 33]])]"
      ]
     },
     "execution_count": 166,
     "metadata": {},
     "output_type": "execute_result"
    }
   ],
   "source": [
    "np.split(a,4)"
   ]
  },
  {
   "cell_type": "code",
   "execution_count": 173,
   "id": "9054570a",
   "metadata": {},
   "outputs": [],
   "source": [
    "# Delete 2nd column from the array\n",
    "a = np.delete(a,1,axis=1)"
   ]
  },
  {
   "cell_type": "code",
   "execution_count": 174,
   "id": "5c49a325",
   "metadata": {},
   "outputs": [
    {
     "data": {
      "text/plain": [
       "array([[10,  0,  0, 12],\n",
       "       [13,  1,  1, 15],\n",
       "       [16,  2,  2, 18],\n",
       "       [19,  3,  3, 21],\n",
       "       [22,  4,  4, 24],\n",
       "       [25,  5,  5, 27],\n",
       "       [28,  6,  6, 30],\n",
       "       [31,  7,  7, 33]])"
      ]
     },
     "execution_count": 174,
     "metadata": {},
     "output_type": "execute_result"
    }
   ],
   "source": [
    "# Insert a column in its place\n",
    "a = np.insert(a,1,np.arange(8),axis=1)\n",
    "a"
   ]
  },
  {
   "cell_type": "code",
   "execution_count": 175,
   "id": "ec6ce8c2",
   "metadata": {},
   "outputs": [
    {
     "data": {
      "text/plain": [
       "array([[False, False, False, False],\n",
       "       [False, False, False, False],\n",
       "       [False, False, False, False],\n",
       "       [False, False, False,  True],\n",
       "       [ True, False, False,  True],\n",
       "       [ True, False, False,  True],\n",
       "       [ True, False, False,  True],\n",
       "       [ True, False, False,  True]])"
      ]
     },
     "execution_count": 175,
     "metadata": {},
     "output_type": "execute_result"
    }
   ],
   "source": [
    "a>20"
   ]
  },
  {
   "cell_type": "code",
   "execution_count": 176,
   "id": "28f827df",
   "metadata": {},
   "outputs": [
    {
     "data": {
      "text/plain": [
       "array([21, 22, 24, 25, 27, 28, 30, 31, 33])"
      ]
     },
     "execution_count": 176,
     "metadata": {},
     "output_type": "execute_result"
    }
   ],
   "source": [
    "a[a>20]"
   ]
  },
  {
   "cell_type": "code",
   "execution_count": 178,
   "id": "341729ee",
   "metadata": {},
   "outputs": [
    {
     "data": {
      "text/plain": [
       "array([[ 0,  0,  0,  0],\n",
       "       [ 0,  0,  0,  0],\n",
       "       [ 0,  0,  0,  0],\n",
       "       [ 0,  0,  0, 20],\n",
       "       [20,  0,  0, 20],\n",
       "       [20,  0,  0, 20],\n",
       "       [20,  0,  0, 20],\n",
       "       [20,  0,  0, 20]])"
      ]
     },
     "execution_count": 178,
     "metadata": {},
     "output_type": "execute_result"
    }
   ],
   "source": [
    "np.where(a>20,20,0) # If a > 20 replace with 20 else replace with 0"
   ]
  },
  {
   "cell_type": "code",
   "execution_count": 183,
   "id": "a5373b03",
   "metadata": {},
   "outputs": [],
   "source": [
    "# Common elements in 2 arrays\n",
    "a = np.array([1,2,3,4,5,6,7,8])\n",
    "b = np.array([2,3,7,8,8,9,10])"
   ]
  },
  {
   "cell_type": "code",
   "execution_count": 180,
   "id": "f63be2ca",
   "metadata": {},
   "outputs": [
    {
     "data": {
      "text/plain": [
       "[2, 3, 7]"
      ]
     },
     "execution_count": 180,
     "metadata": {},
     "output_type": "execute_result"
    }
   ],
   "source": [
    "res=[]\n",
    "for i in a:\n",
    "    for j in b:\n",
    "        if (i==j and i not in res):\n",
    "\n",
    "            res.append(i)\n",
    "res"
   ]
  },
  {
   "cell_type": "code",
   "execution_count": 184,
   "id": "c0592aeb",
   "metadata": {},
   "outputs": [
    {
     "data": {
      "text/plain": [
       "array([2, 3, 7, 8])"
      ]
     },
     "execution_count": 184,
     "metadata": {},
     "output_type": "execute_result"
    }
   ],
   "source": [
    "np.intersect1d(a,b)"
   ]
  },
  {
   "cell_type": "code",
   "execution_count": 182,
   "id": "a45d2967",
   "metadata": {},
   "outputs": [
    {
     "data": {
      "text/plain": [
       "array([1, 4, 5, 6])"
      ]
     },
     "execution_count": 182,
     "metadata": {},
     "output_type": "execute_result"
    }
   ],
   "source": [
    "# Select elements in a which are not present in b\n",
    "np.setdiff1d(a,b)"
   ]
  },
  {
   "cell_type": "code",
   "execution_count": 195,
   "id": "ed31a56b",
   "metadata": {},
   "outputs": [],
   "source": [
    "# Unique elements in array\n",
    "b = np.array([2,3,7,8,8,8,8,8,89,9,9,9,10])"
   ]
  },
  {
   "cell_type": "code",
   "execution_count": 197,
   "id": "8e5fc64d",
   "metadata": {},
   "outputs": [
    {
     "data": {
      "text/plain": [
       "(array([ 2,  3,  7,  8,  9, 10, 89]),\n",
       " array([1, 1, 1, 5, 3, 1, 1], dtype=int64))"
      ]
     },
     "execution_count": 197,
     "metadata": {},
     "output_type": "execute_result"
    }
   ],
   "source": [
    "np.unique(b,return_counts=True)"
   ]
  },
  {
   "cell_type": "markdown",
   "id": "aa7974ee",
   "metadata": {},
   "source": [
    "#### NumPy Arithmetic Operations\n",
    "\n",
    "Input arrays for performing arithmetic operations such as add(), subtract(), multiply(), and divide() must be either of the same shape or should conform to array broadcasting rules"
   ]
  },
  {
   "cell_type": "code",
   "execution_count": null,
   "id": "3b8772cd",
   "metadata": {},
   "outputs": [],
   "source": []
  },
  {
   "cell_type": "code",
   "execution_count": null,
   "id": "4a5111eb",
   "metadata": {},
   "outputs": [],
   "source": []
  },
  {
   "cell_type": "markdown",
   "id": "7c72fdac",
   "metadata": {},
   "source": [
    "#### NumPy Array Copy vs View\n",
    "\n",
    "- The main difference between a copy and a view of an array is that the copy is a new array, and the view is just a view of the original array\n",
    "\n",
    "- The copy owns the data and any changes made to the copy will not affect original array, and any changes made to the original array will not affect the copy\n",
    "\n",
    "- The view does not own the data and any changes made to the view will affect the original array, and any changes made to the original array will affect the view"
   ]
  },
  {
   "cell_type": "code",
   "execution_count": null,
   "id": "2eab013e",
   "metadata": {},
   "outputs": [],
   "source": []
  },
  {
   "cell_type": "markdown",
   "id": "26133311",
   "metadata": {},
   "source": [
    "## **Broadcasting**\n",
    "  * arithmetics operations between ndarrays of different sizes or between an ndarray and a simple number!\n",
    "\n",
    "  * Broadcasting essentially ***stretches*** the *smaller ndarray* so that it matches the **shape of the larger ndarray**.\n",
    "\n",
    "  * Two ndarrays can broadcast are compatible when:\n",
    "\n",
    "      * Both have the same dimensions\n",
    "      * Either of the ndarrays has a dimension of 1. The one having a dimension of 1 is broadcast to meet the size requirements of the larger ndarray\n"
   ]
  },
  {
   "cell_type": "code",
   "execution_count": 187,
   "id": "b7b00cd1",
   "metadata": {},
   "outputs": [
    {
     "data": {
      "text/plain": [
       "array([10, 12, 14, 16, 18])"
      ]
     },
     "execution_count": 187,
     "metadata": {},
     "output_type": "execute_result"
    }
   ],
   "source": [
    "a = np.arange(10,20,2)\n",
    "b = np.array([[3],[3]])\n",
    "a"
   ]
  },
  {
   "cell_type": "code",
   "execution_count": 188,
   "id": "8054e946",
   "metadata": {},
   "outputs": [
    {
     "data": {
      "text/plain": [
       "array([[3],\n",
       "       [3]])"
      ]
     },
     "execution_count": 188,
     "metadata": {},
     "output_type": "execute_result"
    }
   ],
   "source": [
    "b"
   ]
  },
  {
   "cell_type": "code",
   "execution_count": 189,
   "id": "06600f33",
   "metadata": {},
   "outputs": [
    {
     "data": {
      "text/plain": [
       "array([[13, 15, 17, 19, 21],\n",
       "       [13, 15, 17, 19, 21]])"
      ]
     },
     "execution_count": 189,
     "metadata": {},
     "output_type": "execute_result"
    }
   ],
   "source": [
    "a+b"
   ]
  },
  {
   "cell_type": "code",
   "execution_count": 190,
   "id": "80b8d9dc",
   "metadata": {},
   "outputs": [
    {
     "data": {
      "text/plain": [
       "array([[30, 36, 42, 48, 54],\n",
       "       [30, 36, 42, 48, 54]])"
      ]
     },
     "execution_count": 190,
     "metadata": {},
     "output_type": "execute_result"
    }
   ],
   "source": [
    "a*b"
   ]
  },
  {
   "cell_type": "code",
   "execution_count": 191,
   "id": "e43e05d3",
   "metadata": {},
   "outputs": [
    {
     "data": {
      "text/plain": [
       "array([[30, 36, 42, 48, 54],\n",
       "       [30, 36, 42, 48, 54]])"
      ]
     },
     "execution_count": 191,
     "metadata": {},
     "output_type": "execute_result"
    }
   ],
   "source": [
    "np.multiply(a,b)"
   ]
  },
  {
   "cell_type": "code",
   "execution_count": 192,
   "id": "0bc6aaa6",
   "metadata": {},
   "outputs": [
    {
     "data": {
      "text/plain": [
       "array([[3.33333333, 4.        , 4.66666667, 5.33333333, 6.        ],\n",
       "       [3.33333333, 4.        , 4.66666667, 5.33333333, 6.        ]])"
      ]
     },
     "execution_count": 192,
     "metadata": {},
     "output_type": "execute_result"
    }
   ],
   "source": [
    "a/b"
   ]
  },
  {
   "cell_type": "code",
   "execution_count": null,
   "id": "33825ef5",
   "metadata": {},
   "outputs": [],
   "source": []
  }
 ],
 "metadata": {
  "kernelspec": {
   "display_name": "Python 3",
   "language": "python",
   "name": "python3"
  },
  "language_info": {
   "codemirror_mode": {
    "name": "ipython",
    "version": 3
   },
   "file_extension": ".py",
   "mimetype": "text/x-python",
   "name": "python",
   "nbconvert_exporter": "python",
   "pygments_lexer": "ipython3",
   "version": "3.8.8"
  }
 },
 "nbformat": 4,
 "nbformat_minor": 5
}
